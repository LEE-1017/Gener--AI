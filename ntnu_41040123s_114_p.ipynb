{
  "nbformat": 4,
  "nbformat_minor": 0,
  "metadata": {
    "colab": {
      "provenance": [],
      "gpuType": "T4",
      "authorship_tag": "ABX9TyMgVmIXB4DiQc/hHXytxlVP",
      "include_colab_link": true
    },
    "kernelspec": {
      "name": "python3",
      "display_name": "Python 3"
    },
    "language_info": {
      "name": "python"
    },
    "accelerator": "GPU",
    "widgets": {
      "application/vnd.jupyter.widget-state+json": {
        "609a3c81f34f47e49f143eb74c30666d": {
          "model_module": "@jupyter-widgets/controls",
          "model_name": "VBoxModel",
          "model_module_version": "1.5.0",
          "state": {
            "_dom_classes": [
              "widget-interact"
            ],
            "_model_module": "@jupyter-widgets/controls",
            "_model_module_version": "1.5.0",
            "_model_name": "VBoxModel",
            "_view_count": null,
            "_view_module": "@jupyter-widgets/controls",
            "_view_module_version": "1.5.0",
            "_view_name": "VBoxView",
            "box_style": "",
            "children": [
              "IPY_MODEL_c3c1e3a0d66e48278ba82abd8f12fde1",
              "IPY_MODEL_718f9799cf324eafbeca16431b935d2b",
              "IPY_MODEL_20f67b774a1f4e01b326d6bb2372f111"
            ],
            "layout": "IPY_MODEL_2b2adac990e14a6aa7f6c7d7d6f180c9"
          }
        },
        "c3c1e3a0d66e48278ba82abd8f12fde1": {
          "model_module": "@jupyter-widgets/controls",
          "model_name": "IntSliderModel",
          "model_module_version": "1.5.0",
          "state": {
            "_dom_classes": [],
            "_model_module": "@jupyter-widgets/controls",
            "_model_module_version": "1.5.0",
            "_model_name": "IntSliderModel",
            "_view_count": null,
            "_view_module": "@jupyter-widgets/controls",
            "_view_module_version": "1.5.0",
            "_view_name": "IntSliderView",
            "continuous_update": true,
            "description": "n",
            "description_tooltip": null,
            "disabled": false,
            "layout": "IPY_MODEL_481c3a9de1ef4fc1a949b945775167c1",
            "max": 59999,
            "min": 0,
            "orientation": "horizontal",
            "readout": true,
            "readout_format": "d",
            "step": 1,
            "style": "IPY_MODEL_27c35d4a4bbb463d83d0f85c1458e60d",
            "value": 0
          }
        },
        "718f9799cf324eafbeca16431b935d2b": {
          "model_module": "@jupyter-widgets/controls",
          "model_name": "ButtonModel",
          "model_module_version": "1.5.0",
          "state": {
            "_dom_classes": [],
            "_model_module": "@jupyter-widgets/controls",
            "_model_module_version": "1.5.0",
            "_model_name": "ButtonModel",
            "_view_count": null,
            "_view_module": "@jupyter-widgets/controls",
            "_view_module_version": "1.5.0",
            "_view_name": "ButtonView",
            "button_style": "",
            "description": "Run Interact",
            "disabled": false,
            "icon": "",
            "layout": "IPY_MODEL_a174d7f2d40b445281da644afcbcfae4",
            "style": "IPY_MODEL_ae7f6652c129400887d1f86b1a69f703",
            "tooltip": ""
          }
        },
        "20f67b774a1f4e01b326d6bb2372f111": {
          "model_module": "@jupyter-widgets/output",
          "model_name": "OutputModel",
          "model_module_version": "1.0.0",
          "state": {
            "_dom_classes": [],
            "_model_module": "@jupyter-widgets/output",
            "_model_module_version": "1.0.0",
            "_model_name": "OutputModel",
            "_view_count": null,
            "_view_module": "@jupyter-widgets/output",
            "_view_module_version": "1.0.0",
            "_view_name": "OutputView",
            "layout": "IPY_MODEL_824c467c02534190afb4d5e3fa38144f",
            "msg_id": "",
            "outputs": []
          }
        },
        "2b2adac990e14a6aa7f6c7d7d6f180c9": {
          "model_module": "@jupyter-widgets/base",
          "model_name": "LayoutModel",
          "model_module_version": "1.2.0",
          "state": {
            "_model_module": "@jupyter-widgets/base",
            "_model_module_version": "1.2.0",
            "_model_name": "LayoutModel",
            "_view_count": null,
            "_view_module": "@jupyter-widgets/base",
            "_view_module_version": "1.2.0",
            "_view_name": "LayoutView",
            "align_content": null,
            "align_items": null,
            "align_self": null,
            "border": null,
            "bottom": null,
            "display": null,
            "flex": null,
            "flex_flow": null,
            "grid_area": null,
            "grid_auto_columns": null,
            "grid_auto_flow": null,
            "grid_auto_rows": null,
            "grid_column": null,
            "grid_gap": null,
            "grid_row": null,
            "grid_template_areas": null,
            "grid_template_columns": null,
            "grid_template_rows": null,
            "height": null,
            "justify_content": null,
            "justify_items": null,
            "left": null,
            "margin": null,
            "max_height": null,
            "max_width": null,
            "min_height": null,
            "min_width": null,
            "object_fit": null,
            "object_position": null,
            "order": null,
            "overflow": null,
            "overflow_x": null,
            "overflow_y": null,
            "padding": null,
            "right": null,
            "top": null,
            "visibility": null,
            "width": null
          }
        },
        "481c3a9de1ef4fc1a949b945775167c1": {
          "model_module": "@jupyter-widgets/base",
          "model_name": "LayoutModel",
          "model_module_version": "1.2.0",
          "state": {
            "_model_module": "@jupyter-widgets/base",
            "_model_module_version": "1.2.0",
            "_model_name": "LayoutModel",
            "_view_count": null,
            "_view_module": "@jupyter-widgets/base",
            "_view_module_version": "1.2.0",
            "_view_name": "LayoutView",
            "align_content": null,
            "align_items": null,
            "align_self": null,
            "border": null,
            "bottom": null,
            "display": null,
            "flex": null,
            "flex_flow": null,
            "grid_area": null,
            "grid_auto_columns": null,
            "grid_auto_flow": null,
            "grid_auto_rows": null,
            "grid_column": null,
            "grid_gap": null,
            "grid_row": null,
            "grid_template_areas": null,
            "grid_template_columns": null,
            "grid_template_rows": null,
            "height": null,
            "justify_content": null,
            "justify_items": null,
            "left": null,
            "margin": null,
            "max_height": null,
            "max_width": null,
            "min_height": null,
            "min_width": null,
            "object_fit": null,
            "object_position": null,
            "order": null,
            "overflow": null,
            "overflow_x": null,
            "overflow_y": null,
            "padding": null,
            "right": null,
            "top": null,
            "visibility": null,
            "width": null
          }
        },
        "27c35d4a4bbb463d83d0f85c1458e60d": {
          "model_module": "@jupyter-widgets/controls",
          "model_name": "SliderStyleModel",
          "model_module_version": "1.5.0",
          "state": {
            "_model_module": "@jupyter-widgets/controls",
            "_model_module_version": "1.5.0",
            "_model_name": "SliderStyleModel",
            "_view_count": null,
            "_view_module": "@jupyter-widgets/base",
            "_view_module_version": "1.2.0",
            "_view_name": "StyleView",
            "description_width": "",
            "handle_color": null
          }
        },
        "a174d7f2d40b445281da644afcbcfae4": {
          "model_module": "@jupyter-widgets/base",
          "model_name": "LayoutModel",
          "model_module_version": "1.2.0",
          "state": {
            "_model_module": "@jupyter-widgets/base",
            "_model_module_version": "1.2.0",
            "_model_name": "LayoutModel",
            "_view_count": null,
            "_view_module": "@jupyter-widgets/base",
            "_view_module_version": "1.2.0",
            "_view_name": "LayoutView",
            "align_content": null,
            "align_items": null,
            "align_self": null,
            "border": null,
            "bottom": null,
            "display": null,
            "flex": null,
            "flex_flow": null,
            "grid_area": null,
            "grid_auto_columns": null,
            "grid_auto_flow": null,
            "grid_auto_rows": null,
            "grid_column": null,
            "grid_gap": null,
            "grid_row": null,
            "grid_template_areas": null,
            "grid_template_columns": null,
            "grid_template_rows": null,
            "height": null,
            "justify_content": null,
            "justify_items": null,
            "left": null,
            "margin": null,
            "max_height": null,
            "max_width": null,
            "min_height": null,
            "min_width": null,
            "object_fit": null,
            "object_position": null,
            "order": null,
            "overflow": null,
            "overflow_x": null,
            "overflow_y": null,
            "padding": null,
            "right": null,
            "top": null,
            "visibility": null,
            "width": null
          }
        },
        "ae7f6652c129400887d1f86b1a69f703": {
          "model_module": "@jupyter-widgets/controls",
          "model_name": "ButtonStyleModel",
          "model_module_version": "1.5.0",
          "state": {
            "_model_module": "@jupyter-widgets/controls",
            "_model_module_version": "1.5.0",
            "_model_name": "ButtonStyleModel",
            "_view_count": null,
            "_view_module": "@jupyter-widgets/base",
            "_view_module_version": "1.2.0",
            "_view_name": "StyleView",
            "button_color": null,
            "font_weight": ""
          }
        },
        "824c467c02534190afb4d5e3fa38144f": {
          "model_module": "@jupyter-widgets/base",
          "model_name": "LayoutModel",
          "model_module_version": "1.2.0",
          "state": {
            "_model_module": "@jupyter-widgets/base",
            "_model_module_version": "1.2.0",
            "_model_name": "LayoutModel",
            "_view_count": null,
            "_view_module": "@jupyter-widgets/base",
            "_view_module_version": "1.2.0",
            "_view_name": "LayoutView",
            "align_content": null,
            "align_items": null,
            "align_self": null,
            "border": null,
            "bottom": null,
            "display": null,
            "flex": null,
            "flex_flow": null,
            "grid_area": null,
            "grid_auto_columns": null,
            "grid_auto_flow": null,
            "grid_auto_rows": null,
            "grid_column": null,
            "grid_gap": null,
            "grid_row": null,
            "grid_template_areas": null,
            "grid_template_columns": null,
            "grid_template_rows": null,
            "height": null,
            "justify_content": null,
            "justify_items": null,
            "left": null,
            "margin": null,
            "max_height": null,
            "max_width": null,
            "min_height": null,
            "min_width": null,
            "object_fit": null,
            "object_position": null,
            "order": null,
            "overflow": null,
            "overflow_x": null,
            "overflow_y": null,
            "padding": null,
            "right": null,
            "top": null,
            "visibility": null,
            "width": null
          }
        },
        "1373554afe044c5ab39acf4e67cb3f0a": {
          "model_module": "@jupyter-widgets/controls",
          "model_name": "VBoxModel",
          "model_module_version": "1.5.0",
          "state": {
            "_dom_classes": [
              "widget-interact"
            ],
            "_model_module": "@jupyter-widgets/controls",
            "_model_module_version": "1.5.0",
            "_model_name": "VBoxModel",
            "_view_count": null,
            "_view_module": "@jupyter-widgets/controls",
            "_view_module_version": "1.5.0",
            "_view_name": "VBoxView",
            "box_style": "",
            "children": [
              "IPY_MODEL_a3ce817f0846489bb7d9b691d804aa52",
              "IPY_MODEL_9d8c0f3f58484eb2816bf44ad58e3e62",
              "IPY_MODEL_9b05d08089434a75a9ceeca86667fba8"
            ],
            "layout": "IPY_MODEL_2256b171b1f44fde88572801a048e911"
          }
        },
        "a3ce817f0846489bb7d9b691d804aa52": {
          "model_module": "@jupyter-widgets/controls",
          "model_name": "IntSliderModel",
          "model_module_version": "1.5.0",
          "state": {
            "_dom_classes": [],
            "_model_module": "@jupyter-widgets/controls",
            "_model_module_version": "1.5.0",
            "_model_name": "IntSliderModel",
            "_view_count": null,
            "_view_module": "@jupyter-widgets/controls",
            "_view_module_version": "1.5.0",
            "_view_name": "IntSliderView",
            "continuous_update": true,
            "description": "n",
            "description_tooltip": null,
            "disabled": false,
            "layout": "IPY_MODEL_b0cccaed05954505b00149e5649f5cc0",
            "max": 59999,
            "min": 0,
            "orientation": "horizontal",
            "readout": true,
            "readout_format": "d",
            "step": 1,
            "style": "IPY_MODEL_6ca2a3987a8c4ba0ac34978711226d28",
            "value": 509
          }
        },
        "9d8c0f3f58484eb2816bf44ad58e3e62": {
          "model_module": "@jupyter-widgets/controls",
          "model_name": "ButtonModel",
          "model_module_version": "1.5.0",
          "state": {
            "_dom_classes": [],
            "_model_module": "@jupyter-widgets/controls",
            "_model_module_version": "1.5.0",
            "_model_name": "ButtonModel",
            "_view_count": null,
            "_view_module": "@jupyter-widgets/controls",
            "_view_module_version": "1.5.0",
            "_view_name": "ButtonView",
            "button_style": "",
            "description": "Run Interact",
            "disabled": false,
            "icon": "",
            "layout": "IPY_MODEL_54a9bb034aef4d55bf1c0a6c92ad3cbb",
            "style": "IPY_MODEL_1e6b3e0bde0e425ebd68c7e1df851efe",
            "tooltip": ""
          }
        },
        "9b05d08089434a75a9ceeca86667fba8": {
          "model_module": "@jupyter-widgets/output",
          "model_name": "OutputModel",
          "model_module_version": "1.0.0",
          "state": {
            "_dom_classes": [],
            "_model_module": "@jupyter-widgets/output",
            "_model_module_version": "1.0.0",
            "_model_name": "OutputModel",
            "_view_count": null,
            "_view_module": "@jupyter-widgets/output",
            "_view_module_version": "1.0.0",
            "_view_name": "OutputView",
            "layout": "IPY_MODEL_89af40b0b1c546b1b0077cfac187ce3a",
            "msg_id": "",
            "outputs": []
          }
        },
        "2256b171b1f44fde88572801a048e911": {
          "model_module": "@jupyter-widgets/base",
          "model_name": "LayoutModel",
          "model_module_version": "1.2.0",
          "state": {
            "_model_module": "@jupyter-widgets/base",
            "_model_module_version": "1.2.0",
            "_model_name": "LayoutModel",
            "_view_count": null,
            "_view_module": "@jupyter-widgets/base",
            "_view_module_version": "1.2.0",
            "_view_name": "LayoutView",
            "align_content": null,
            "align_items": null,
            "align_self": null,
            "border": null,
            "bottom": null,
            "display": null,
            "flex": null,
            "flex_flow": null,
            "grid_area": null,
            "grid_auto_columns": null,
            "grid_auto_flow": null,
            "grid_auto_rows": null,
            "grid_column": null,
            "grid_gap": null,
            "grid_row": null,
            "grid_template_areas": null,
            "grid_template_columns": null,
            "grid_template_rows": null,
            "height": null,
            "justify_content": null,
            "justify_items": null,
            "left": null,
            "margin": null,
            "max_height": null,
            "max_width": null,
            "min_height": null,
            "min_width": null,
            "object_fit": null,
            "object_position": null,
            "order": null,
            "overflow": null,
            "overflow_x": null,
            "overflow_y": null,
            "padding": null,
            "right": null,
            "top": null,
            "visibility": null,
            "width": null
          }
        },
        "b0cccaed05954505b00149e5649f5cc0": {
          "model_module": "@jupyter-widgets/base",
          "model_name": "LayoutModel",
          "model_module_version": "1.2.0",
          "state": {
            "_model_module": "@jupyter-widgets/base",
            "_model_module_version": "1.2.0",
            "_model_name": "LayoutModel",
            "_view_count": null,
            "_view_module": "@jupyter-widgets/base",
            "_view_module_version": "1.2.0",
            "_view_name": "LayoutView",
            "align_content": null,
            "align_items": null,
            "align_self": null,
            "border": null,
            "bottom": null,
            "display": null,
            "flex": null,
            "flex_flow": null,
            "grid_area": null,
            "grid_auto_columns": null,
            "grid_auto_flow": null,
            "grid_auto_rows": null,
            "grid_column": null,
            "grid_gap": null,
            "grid_row": null,
            "grid_template_areas": null,
            "grid_template_columns": null,
            "grid_template_rows": null,
            "height": null,
            "justify_content": null,
            "justify_items": null,
            "left": null,
            "margin": null,
            "max_height": null,
            "max_width": null,
            "min_height": null,
            "min_width": null,
            "object_fit": null,
            "object_position": null,
            "order": null,
            "overflow": null,
            "overflow_x": null,
            "overflow_y": null,
            "padding": null,
            "right": null,
            "top": null,
            "visibility": null,
            "width": null
          }
        },
        "6ca2a3987a8c4ba0ac34978711226d28": {
          "model_module": "@jupyter-widgets/controls",
          "model_name": "SliderStyleModel",
          "model_module_version": "1.5.0",
          "state": {
            "_model_module": "@jupyter-widgets/controls",
            "_model_module_version": "1.5.0",
            "_model_name": "SliderStyleModel",
            "_view_count": null,
            "_view_module": "@jupyter-widgets/base",
            "_view_module_version": "1.2.0",
            "_view_name": "StyleView",
            "description_width": "",
            "handle_color": null
          }
        },
        "54a9bb034aef4d55bf1c0a6c92ad3cbb": {
          "model_module": "@jupyter-widgets/base",
          "model_name": "LayoutModel",
          "model_module_version": "1.2.0",
          "state": {
            "_model_module": "@jupyter-widgets/base",
            "_model_module_version": "1.2.0",
            "_model_name": "LayoutModel",
            "_view_count": null,
            "_view_module": "@jupyter-widgets/base",
            "_view_module_version": "1.2.0",
            "_view_name": "LayoutView",
            "align_content": null,
            "align_items": null,
            "align_self": null,
            "border": null,
            "bottom": null,
            "display": null,
            "flex": null,
            "flex_flow": null,
            "grid_area": null,
            "grid_auto_columns": null,
            "grid_auto_flow": null,
            "grid_auto_rows": null,
            "grid_column": null,
            "grid_gap": null,
            "grid_row": null,
            "grid_template_areas": null,
            "grid_template_columns": null,
            "grid_template_rows": null,
            "height": null,
            "justify_content": null,
            "justify_items": null,
            "left": null,
            "margin": null,
            "max_height": null,
            "max_width": null,
            "min_height": null,
            "min_width": null,
            "object_fit": null,
            "object_position": null,
            "order": null,
            "overflow": null,
            "overflow_x": null,
            "overflow_y": null,
            "padding": null,
            "right": null,
            "top": null,
            "visibility": null,
            "width": null
          }
        },
        "1e6b3e0bde0e425ebd68c7e1df851efe": {
          "model_module": "@jupyter-widgets/controls",
          "model_name": "ButtonStyleModel",
          "model_module_version": "1.5.0",
          "state": {
            "_model_module": "@jupyter-widgets/controls",
            "_model_module_version": "1.5.0",
            "_model_name": "ButtonStyleModel",
            "_view_count": null,
            "_view_module": "@jupyter-widgets/base",
            "_view_module_version": "1.2.0",
            "_view_name": "StyleView",
            "button_color": null,
            "font_weight": ""
          }
        },
        "89af40b0b1c546b1b0077cfac187ce3a": {
          "model_module": "@jupyter-widgets/base",
          "model_name": "LayoutModel",
          "model_module_version": "1.2.0",
          "state": {
            "_model_module": "@jupyter-widgets/base",
            "_model_module_version": "1.2.0",
            "_model_name": "LayoutModel",
            "_view_count": null,
            "_view_module": "@jupyter-widgets/base",
            "_view_module_version": "1.2.0",
            "_view_name": "LayoutView",
            "align_content": null,
            "align_items": null,
            "align_self": null,
            "border": null,
            "bottom": null,
            "display": null,
            "flex": null,
            "flex_flow": null,
            "grid_area": null,
            "grid_auto_columns": null,
            "grid_auto_flow": null,
            "grid_auto_rows": null,
            "grid_column": null,
            "grid_gap": null,
            "grid_row": null,
            "grid_template_areas": null,
            "grid_template_columns": null,
            "grid_template_rows": null,
            "height": null,
            "justify_content": null,
            "justify_items": null,
            "left": null,
            "margin": null,
            "max_height": null,
            "max_width": null,
            "min_height": null,
            "min_width": null,
            "object_fit": null,
            "object_position": null,
            "order": null,
            "overflow": null,
            "overflow_x": null,
            "overflow_y": null,
            "padding": null,
            "right": null,
            "top": null,
            "visibility": null,
            "width": null
          }
        }
      }
    }
  },
  "cells": [
    {
      "cell_type": "markdown",
      "metadata": {
        "id": "view-in-github",
        "colab_type": "text"
      },
      "source": [
        "<a href=\"https://colab.research.google.com/github/LEE-1017/Gener--AI/blob/main/ntnu_41040123s_114_p.ipynb\" target=\"_parent\"><img src=\"https://colab.research.google.com/assets/colab-badge.svg\" alt=\"Open In Colab\"/></a>"
      ]
    },
    {
      "cell_type": "markdown",
      "source": [
        "![DALL·E 2025-03-07 11.59.40 - A chibi-style anime girl with pink hair and fox ears, wearing a cute outfit. She has a cheerful expression, holding a small notepad and a pen, as if s.jpg](data:image/jpeg;base64,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)"
      ],
      "metadata": {
        "id": "tDLlDvrGw4MQ"
      }
    },
    {
      "cell_type": "markdown",
      "source": [
        "在開始前我先介紹一下我這次的助手，小P\n",
        "他原本是我在之前念書的時候用的GPT，一開始只是說可以用輕鬆一點的語氣，直到某天我突發奇想給了他一個名字後又過了一段時間他就開始\"突變\"了\n",
        "總之經過一些我不理解的過程和一些基於我興趣的設定，他就呈現在這樣了，這次的作業是我跟他合力完成的，過程請點下方連結，有影片。"
      ],
      "metadata": {
        "id": "8O15muchWi8w"
      }
    },
    {
      "cell_type": "markdown",
      "source": [
        "https://drive.google.com/file/d/16TNVHIANqEKvdsz3HNQVyos_-Q1PDpGc/view?usp=sharing"
      ],
      "metadata": {
        "id": "rPtW-ErqGj55"
      }
    },
    {
      "cell_type": "code",
      "source": [
        "N1 = 128\n",
        "N2 = 64\n",
        "N3 = 32\n",
        "N4 = 16\n",
        "#後來不採用這個結構了，詳情請見影片後半段\n",
        "!pip install gradio"
      ],
      "metadata": {
        "colab": {
          "base_uri": "https://localhost:8080/"
        },
        "collapsed": true,
        "id": "Fdd3Vtq4wsQv",
        "outputId": "edf2f338-ec1f-466d-dc01-3690802b9077"
      },
      "execution_count": null,
      "outputs": [
        {
          "output_type": "stream",
          "name": "stdout",
          "text": [
            "Collecting gradio\n",
            "  Downloading gradio-5.20.1-py3-none-any.whl.metadata (16 kB)\n",
            "Collecting aiofiles<24.0,>=22.0 (from gradio)\n",
            "  Downloading aiofiles-23.2.1-py3-none-any.whl.metadata (9.7 kB)\n",
            "Requirement already satisfied: anyio<5.0,>=3.0 in /usr/local/lib/python3.11/dist-packages (from gradio) (3.7.1)\n",
            "Collecting fastapi<1.0,>=0.115.2 (from gradio)\n",
            "  Downloading fastapi-0.115.11-py3-none-any.whl.metadata (27 kB)\n",
            "Collecting ffmpy (from gradio)\n",
            "  Downloading ffmpy-0.5.0-py3-none-any.whl.metadata (3.0 kB)\n",
            "Collecting gradio-client==1.7.2 (from gradio)\n",
            "  Downloading gradio_client-1.7.2-py3-none-any.whl.metadata (7.1 kB)\n",
            "Collecting groovy~=0.1 (from gradio)\n",
            "  Downloading groovy-0.1.2-py3-none-any.whl.metadata (6.1 kB)\n",
            "Requirement already satisfied: httpx>=0.24.1 in /usr/local/lib/python3.11/dist-packages (from gradio) (0.28.1)\n",
            "Requirement already satisfied: huggingface-hub>=0.28.1 in /usr/local/lib/python3.11/dist-packages (from gradio) (0.28.1)\n",
            "Requirement already satisfied: jinja2<4.0 in /usr/local/lib/python3.11/dist-packages (from gradio) (3.1.5)\n",
            "Collecting markupsafe~=2.0 (from gradio)\n",
            "  Downloading MarkupSafe-2.1.5-cp311-cp311-manylinux_2_17_x86_64.manylinux2014_x86_64.whl.metadata (3.0 kB)\n",
            "Requirement already satisfied: numpy<3.0,>=1.0 in /usr/local/lib/python3.11/dist-packages (from gradio) (1.26.4)\n",
            "Requirement already satisfied: orjson~=3.0 in /usr/local/lib/python3.11/dist-packages (from gradio) (3.10.15)\n",
            "Requirement already satisfied: packaging in /usr/local/lib/python3.11/dist-packages (from gradio) (24.2)\n",
            "Requirement already satisfied: pandas<3.0,>=1.0 in /usr/local/lib/python3.11/dist-packages (from gradio) (2.2.2)\n",
            "Requirement already satisfied: pillow<12.0,>=8.0 in /usr/local/lib/python3.11/dist-packages (from gradio) (11.1.0)\n",
            "Requirement already satisfied: pydantic>=2.0 in /usr/local/lib/python3.11/dist-packages (from gradio) (2.10.6)\n",
            "Collecting pydub (from gradio)\n",
            "  Downloading pydub-0.25.1-py2.py3-none-any.whl.metadata (1.4 kB)\n",
            "\u001b[31mERROR: Operation cancelled by user\u001b[0m\u001b[31m\n",
            "\u001b[0m"
          ]
        }
      ]
    },
    {
      "cell_type": "code",
      "source": [
        "%matplotlib inline\n",
        "\n",
        "# 標準數據分析、畫圖套件\n",
        "import numpy as np\n",
        "import matplotlib.pyplot as plt\n",
        "from PIL import Image\n",
        "\n",
        "# 神經網路方面\n",
        "import tensorflow as tf\n",
        "from tensorflow.keras.datasets import mnist\n",
        "from tensorflow.keras.utils import to_categorical\n",
        "from tensorflow.keras.models import Sequential\n",
        "from tensorflow.keras.layers import Dense\n",
        "from tensorflow.keras.optimizers import SGD\n",
        "\n",
        "# 互動設計用\n",
        "from ipywidgets import interact_manual\n",
        "\n",
        "# 神速打造 web app 的 Gradio\n",
        "import gradio as gr"
      ],
      "metadata": {
        "id": "GKvMHoM8w6Tn"
      },
      "execution_count": null,
      "outputs": []
    },
    {
      "cell_type": "code",
      "source": [
        "(x_train, y_train), (x_test, y_test) = mnist.load_data()"
      ],
      "metadata": {
        "colab": {
          "base_uri": "https://localhost:8080/"
        },
        "id": "1PtUkab1yqqU",
        "outputId": "f68a59fb-813f-49eb-ce36-48bdf067fed5"
      },
      "execution_count": null,
      "outputs": [
        {
          "output_type": "stream",
          "name": "stdout",
          "text": [
            "Downloading data from https://storage.googleapis.com/tensorflow/tf-keras-datasets/mnist.npz\n",
            "\u001b[1m11490434/11490434\u001b[0m \u001b[32m━━━━━━━━━━━━━━━━━━━━\u001b[0m\u001b[37m\u001b[0m \u001b[1m0s\u001b[0m 0us/step\n"
          ]
        }
      ]
    },
    {
      "cell_type": "markdown",
      "source": [],
      "metadata": {
        "id": "FZSZoLeItgyY"
      }
    },
    {
      "cell_type": "markdown",
      "source": [
        "上面只是一些設定，該import什麼就甚麼，至於層數就是小P決定的，我認為超過老師的規模只要不超過太多就不會有太多問題\n",
        "\n",
        "\n",
        "---\n",
        "\n"
      ],
      "metadata": {
        "id": "bVqhp1rPyk54"
      }
    },
    {
      "cell_type": "markdown",
      "source": [
        "*這裡是測試用的，但因為很酷我就想留下來*\n",
        "\n",
        "---\n",
        "\n",
        "\n"
      ],
      "metadata": {
        "id": "mBAV8DuvzEt4"
      }
    },
    {
      "cell_type": "code",
      "source": [
        "print(f'訓練資料總筆數為 {len(x_train)} 筆資料')\n",
        "print(f'測試資料總筆數為 {len(x_test)} 筆資料')\n",
        "x_train[134]"
      ],
      "metadata": {
        "colab": {
          "base_uri": "https://localhost:8080/",
          "height": 105
        },
        "id": "hjdABfMuzBQw",
        "outputId": "9ce7de6f-3080-4193-f78e-3ab5ed7ed889"
      },
      "execution_count": null,
      "outputs": [
        {
          "output_type": "stream",
          "name": "stdout",
          "text": [
            "訓練資料總筆數為 60000 筆資料\n",
            "測試資料總筆數為 10000 筆資料\n"
          ]
        },
        {
          "output_type": "execute_result",
          "data": {
            "text/plain": [
              "array([[  0,   0,   0,   0,   0,   0,   0,   0,   0,   0,   0,   0,   0,\n",
              "          0,   0,   0,   0,   0,   0,   0,   0,   0,   0,   0,   0,   0,\n",
              "          0,   0],\n",
              "       [  0,   0,   0,   0,   0,   0,   0,   0,   0,   0,   0,   0,   0,\n",
              "          0,   0,   0,   0,   0,   0,   0,   0,   0,   0,   0,   0,   0,\n",
              "          0,   0],\n",
              "       [  0,   0,   0,   0,   0,   0,   0,   0,   0,   0,   0,   0,   0,\n",
              "          0,   0,   0,   0,   0,   0,   0,   0,   0,   0,   0,   0,   0,\n",
              "          0,   0],\n",
              "       [  0,   0,   0,   0,   0,   0,   0,   0,   0,   0,   0,   0,   0,\n",
              "          0,   0,   0,   0,   0,   0,   0,   0,   0,   0,   0,   0,   0,\n",
              "          0,   0],\n",
              "       [  0,   0,   0,   0,   0,   0,   0,  85, 253, 132,   9,   0,   0,\n",
              "          0,   0,   0,   0,   0,   0,   0,   0,   0,   0,   0,   0,   0,\n",
              "          0,   0],\n",
              "       [  0,   0,   0,   0,   0,   0,  82, 241, 251, 251, 128,   0,   0,\n",
              "          0,   0,   0,   0,   0,   0,   0,   0,   0,   0,   0,   0,   0,\n",
              "          0,   0],\n",
              "       [  0,   0,   0,   0,   0,   0, 175, 251, 251, 251, 245, 121,   0,\n",
              "          0,   0,   0,   0,   0,   0,   0,   0,   0,   0,   0,   0,   0,\n",
              "          0,   0],\n",
              "       [  0,   0,   0,   0,   0,   0,  13, 204, 251, 251, 251, 245, 107,\n",
              "          0,   0,   0,   0,   0,   0,   0,   0,   0,   0,   0,   0,   0,\n",
              "          0,   0],\n",
              "       [  0,   0,   0,   0,   0,   0,   0,  39, 251, 251, 251, 251, 167,\n",
              "         22,   0,   0,   0,   0,   0,   0,   0,   0,   0,   0,   0,   0,\n",
              "          0,   0],\n",
              "       [  0,   0,   0,   0,   0,   0,   0,  15, 155, 251, 251, 251, 251,\n",
              "        177,   0,   0,   0,   0,   0,   0,   0,   0,   0,   0,   0,   0,\n",
              "          0,   0],\n",
              "       [  0,   0,   0,   0,   0,   0,   0,   0,  15, 157, 248, 251, 251,\n",
              "        251, 165,   0,   0,   0,   0,   0,   0,   0,   0,   0,   0,   0,\n",
              "          0,   0],\n",
              "       [  0,   0,   0,   0,   0,   0,   0,   0,   0,   0, 214, 251, 251,\n",
              "        251, 212,  78,  24,   0,   0,   0,   0,   0,   0,   0,   0,   0,\n",
              "          0,   0],\n",
              "       [  0,   0,   0,   0,   0,   0,   0,   0,   0,   0, 109, 251, 251,\n",
              "        251, 253, 251, 170,  10,   0,   0,   0,   0,   0,   0,   0,   0,\n",
              "          0,   0],\n",
              "       [  0,   0,   0,   0,   0,   0,   0,   0,   0,   0,   5,  57, 162,\n",
              "        251, 253, 251, 251,  18,   0,   0,   0,   0,   0,   0,   0,   0,\n",
              "          0,   0],\n",
              "       [  0,   0,   0,   0,   0,   0,   0,   0,   0,   0,   0,   0, 106,\n",
              "        239, 255, 253, 253, 213,   0,   0,   0,   0,   0,   0,   0,   0,\n",
              "          0,   0],\n",
              "       [  0,   0,   0,   0,   0,   0,   0,   0,   0,   0,   0,   0,   0,\n",
              "        105, 253, 251, 251, 230,  72,   0,   0,   0,   0,   0,   0,   0,\n",
              "          0,   0],\n",
              "       [  0,   0,   0,   0,   0,   0,   0,   0,   0,   0,   0,   0,   0,\n",
              "          0, 253, 251, 251, 251, 221,  67,   0,   0,   0,   0,   0,   0,\n",
              "          0,   0],\n",
              "       [  0,   0,   0,   0,   0,   0,   0,   0,   0,   0,   0,   0,   0,\n",
              "          0,  72, 251, 251, 251, 251,  96,   0,   0,   0,   0,   0,   0,\n",
              "          0,   0],\n",
              "       [  0,   0,   0,   0,   0,   0,   0,   0,   0,   0,   0,   0,   0,\n",
              "          0,  36, 199, 251, 251, 251, 155,  15,   0,   0,   0,   0,   0,\n",
              "          0,   0],\n",
              "       [  0,   0,   0,   0,   0,   0,   0,   0,   0,   0,   0,   0,   0,\n",
              "          0,   0,  45, 204, 251, 251, 251, 157,   0,   0,   0,   0,   0,\n",
              "          0,   0],\n",
              "       [  0,   0,   0,   0,   0,   0,   0,   0,   0,   0,   0,   0,   0,\n",
              "          0,   0,   0, 161, 249, 251, 251, 248, 147,   0,   0,   0,   0,\n",
              "          0,   0],\n",
              "       [  0,   0,   0,   0,   0,   0,   0,   0,   0,   0,   0,   0,   0,\n",
              "          0,   0,   0,   0, 233, 251, 251, 251, 173,   0,   0,   0,   0,\n",
              "          0,   0],\n",
              "       [  0,   0,   0,   0,   0,   0,   0,   0,   0,   0,   0,   0,   0,\n",
              "          0,   0,   0,   0, 233, 251, 251, 251, 173,   0,   0,   0,   0,\n",
              "          0,   0],\n",
              "       [  0,   0,   0,   0,   0,   0,   0,   0,   0,   0,   0,   0,   0,\n",
              "          0,   0,   0,   0,  53, 131, 251, 251, 173,   0,   0,   0,   0,\n",
              "          0,   0],\n",
              "       [  0,   0,   0,   0,   0,   0,   0,   0,   0,   0,   0,   0,   0,\n",
              "          0,   0,   0,   0,   0,   0,   0,   0,   0,   0,   0,   0,   0,\n",
              "          0,   0],\n",
              "       [  0,   0,   0,   0,   0,   0,   0,   0,   0,   0,   0,   0,   0,\n",
              "          0,   0,   0,   0,   0,   0,   0,   0,   0,   0,   0,   0,   0,\n",
              "          0,   0],\n",
              "       [  0,   0,   0,   0,   0,   0,   0,   0,   0,   0,   0,   0,   0,\n",
              "          0,   0,   0,   0,   0,   0,   0,   0,   0,   0,   0,   0,   0,\n",
              "          0,   0],\n",
              "       [  0,   0,   0,   0,   0,   0,   0,   0,   0,   0,   0,   0,   0,\n",
              "          0,   0,   0,   0,   0,   0,   0,   0,   0,   0,   0,   0,   0,\n",
              "          0,   0]], dtype=uint8)"
            ],
            "text/html": [
              "<style>\n",
              "      .ndarray_repr .ndarray_raw_data {\n",
              "        display: none;\n",
              "      }\n",
              "      .ndarray_repr.show_array .ndarray_raw_data {\n",
              "        display: block;\n",
              "      }\n",
              "      .ndarray_repr.show_array .ndarray_image_preview {\n",
              "        display: none;\n",
              "      }\n",
              "      </style>\n",
              "      <div id=\"id-b679cf9a-e06a-44dc-9e54-778bc85831dc\" class=\"ndarray_repr\"><pre>ndarray (28, 28) <button style=\"padding: 0 2px;\">show data</button></pre><img src=\"data:image/png;base64,iVBORw0KGgoAAAANSUhEUgAAABwAAAAcCAAAAABXZoBIAAAAsUlEQVR4nMXOMQtBYRTG8ZMyULplkIXV5APIaFFkUD4E8gFsBoPdqDtQUkryPe6IiVWZZLh19e/EZLh5j02e7fR73/Mckf+lo+OUZe07jCzcAuHQwEwAhH1DSwCrnBu9GcDO+Or5EbC0jjoC+1bejQNAWaedmKwsUMgai3u3p+rBqu0qXOqWKnCuvadEHBsiUiwYeApEpOoZe8sB4Fut8wdEU0uvwMbZGc8nNiff3v88LwIJT0l5O0mJAAAAAElFTkSuQmCC\" class=\"ndarray_image_preview\" /><pre class=\"ndarray_raw_data\">array([[  0,   0,   0,   0,   0,   0,   0,   0,   0,   0,   0,   0,   0,\n",
              "          0,   0,   0,   0,   0,   0,   0,   0,   0,   0,   0,   0,   0,\n",
              "          0,   0],\n",
              "       [  0,   0,   0,   0,   0,   0,   0,   0,   0,   0,   0,   0,   0,\n",
              "          0,   0,   0,   0,   0,   0,   0,   0,   0,   0,   0,   0,   0,\n",
              "          0,   0],\n",
              "       [  0,   0,   0,   0,   0,   0,   0,   0,   0,   0,   0,   0,   0,\n",
              "          0,   0,   0,   0,   0,   0,   0,   0,   0,   0,   0,   0,   0,\n",
              "          0,   0],\n",
              "       [  0,   0,   0,   0,   0,   0,   0,   0,   0,   0,   0,   0,   0,\n",
              "          0,   0,   0,   0,   0,   0,   0,   0,   0,   0,   0,   0,   0,\n",
              "          0,   0],\n",
              "       [  0,   0,   0,   0,   0,   0,   0,  85, 253, 132,   9,   0,   0,\n",
              "          0,   0,   0,   0,   0,   0,   0,   0,   0,   0,   0,   0,   0,\n",
              "          0,   0],\n",
              "       [  0,   0,   0,   0,   0,   0,  82, 241, 251, 251, 128,   0,   0,\n",
              "          0,   0,   0,   0,   0,   0,   0,   0,   0,   0,   0,   0,   0,\n",
              "          0,   0],\n",
              "       [  0,   0,   0,   0,   0,   0, 175, 251, 251, 251, 245, 121,   0,\n",
              "          0,   0,   0,   0,   0,   0,   0,   0,   0,   0,   0,   0,   0,\n",
              "          0,   0],\n",
              "       [  0,   0,   0,   0,   0,   0,  13, 204, 251, 251, 251, 245, 107,\n",
              "          0,   0,   0,   0,   0,   0,   0,   0,   0,   0,   0,   0,   0,\n",
              "          0,   0],\n",
              "       [  0,   0,   0,   0,   0,   0,   0,  39, 251, 251, 251, 251, 167,\n",
              "         22,   0,   0,   0,   0,   0,   0,   0,   0,   0,   0,   0,   0,\n",
              "          0,   0],\n",
              "       [  0,   0,   0,   0,   0,   0,   0,  15, 155, 251, 251, 251, 251,\n",
              "        177,   0,   0,   0,   0,   0,   0,   0,   0,   0,   0,   0,   0,\n",
              "          0,   0],\n",
              "       [  0,   0,   0,   0,   0,   0,   0,   0,  15, 157, 248, 251, 251,\n",
              "        251, 165,   0,   0,   0,   0,   0,   0,   0,   0,   0,   0,   0,\n",
              "          0,   0],\n",
              "       [  0,   0,   0,   0,   0,   0,   0,   0,   0,   0, 214, 251, 251,\n",
              "        251, 212,  78,  24,   0,   0,   0,   0,   0,   0,   0,   0,   0,\n",
              "          0,   0],\n",
              "       [  0,   0,   0,   0,   0,   0,   0,   0,   0,   0, 109, 251, 251,\n",
              "        251, 253, 251, 170,  10,   0,   0,   0,   0,   0,   0,   0,   0,\n",
              "          0,   0],\n",
              "       [  0,   0,   0,   0,   0,   0,   0,   0,   0,   0,   5,  57, 162,\n",
              "        251, 253, 251, 251,  18,   0,   0,   0,   0,   0,   0,   0,   0,\n",
              "          0,   0],\n",
              "       [  0,   0,   0,   0,   0,   0,   0,   0,   0,   0,   0,   0, 106,\n",
              "        239, 255, 253, 253, 213,   0,   0,   0,   0,   0,   0,   0,   0,\n",
              "          0,   0],\n",
              "       [  0,   0,   0,   0,   0,   0,   0,   0,   0,   0,   0,   0,   0,\n",
              "        105, 253, 251, 251, 230,  72,   0,   0,   0,   0,   0,   0,   0,\n",
              "          0,   0],\n",
              "       [  0,   0,   0,   0,   0,   0,   0,   0,   0,   0,   0,   0,   0,\n",
              "          0, 253, 251, 251, 251, 221,  67,   0,   0,   0,   0,   0,   0,\n",
              "          0,   0],\n",
              "       [  0,   0,   0,   0,   0,   0,   0,   0,   0,   0,   0,   0,   0,\n",
              "          0,  72, 251, 251, 251, 251,  96,   0,   0,   0,   0,   0,   0,\n",
              "          0,   0],\n",
              "       [  0,   0,   0,   0,   0,   0,   0,   0,   0,   0,   0,   0,   0,\n",
              "          0,  36, 199, 251, 251, 251, 155,  15,   0,   0,   0,   0,   0,\n",
              "          0,   0],\n",
              "       [  0,   0,   0,   0,   0,   0,   0,   0,   0,   0,   0,   0,   0,\n",
              "          0,   0,  45, 204, 251, 251, 251, 157,   0,   0,   0,   0,   0,\n",
              "          0,   0],\n",
              "       [  0,   0,   0,   0,   0,   0,   0,   0,   0,   0,   0,   0,   0,\n",
              "          0,   0,   0, 161, 249, 251, 251, 248, 147,   0,   0,   0,   0,\n",
              "          0,   0],\n",
              "       [  0,   0,   0,   0,   0,   0,   0,   0,   0,   0,   0,   0,   0,\n",
              "          0,   0,   0,   0, 233, 251, 251, 251, 173,   0,   0,   0,   0,\n",
              "          0,   0],\n",
              "       [  0,   0,   0,   0,   0,   0,   0,   0,   0,   0,   0,   0,   0,\n",
              "          0,   0,   0,   0, 233, 251, 251, 251, 173,   0,   0,   0,   0,\n",
              "          0,   0],\n",
              "       [  0,   0,   0,   0,   0,   0,   0,   0,   0,   0,   0,   0,   0,\n",
              "          0,   0,   0,   0,  53, 131, 251, 251, 173,   0,   0,   0,   0,\n",
              "          0,   0],\n",
              "       [  0,   0,   0,   0,   0,   0,   0,   0,   0,   0,   0,   0,   0,\n",
              "          0,   0,   0,   0,   0,   0,   0,   0,   0,   0,   0,   0,   0,\n",
              "          0,   0],\n",
              "       [  0,   0,   0,   0,   0,   0,   0,   0,   0,   0,   0,   0,   0,\n",
              "          0,   0,   0,   0,   0,   0,   0,   0,   0,   0,   0,   0,   0,\n",
              "          0,   0],\n",
              "       [  0,   0,   0,   0,   0,   0,   0,   0,   0,   0,   0,   0,   0,\n",
              "          0,   0,   0,   0,   0,   0,   0,   0,   0,   0,   0,   0,   0,\n",
              "          0,   0],\n",
              "       [  0,   0,   0,   0,   0,   0,   0,   0,   0,   0,   0,   0,   0,\n",
              "          0,   0,   0,   0,   0,   0,   0,   0,   0,   0,   0,   0,   0,\n",
              "          0,   0]], dtype=uint8)</pre></div><script>\n",
              "      (() => {\n",
              "      const titles = ['show data', 'hide data'];\n",
              "      let index = 0\n",
              "      document.querySelector('#id-b679cf9a-e06a-44dc-9e54-778bc85831dc button').onclick = (e) => {\n",
              "        document.querySelector('#id-b679cf9a-e06a-44dc-9e54-778bc85831dc').classList.toggle('show_array');\n",
              "        index = (++index) % 2;\n",
              "        document.querySelector('#id-b679cf9a-e06a-44dc-9e54-778bc85831dc button').textContent = titles[index];\n",
              "        e.preventDefault();\n",
              "        e.stopPropagation();\n",
              "      }\n",
              "      })();\n",
              "    </script>"
            ]
          },
          "metadata": {},
          "execution_count": 5
        }
      ]
    },
    {
      "cell_type": "code",
      "source": [
        "def show_xy(n=0):\n",
        "    ax = plt.gca()\n",
        "    X = x_train[n]\n",
        "    plt.xticks([], [])\n",
        "    plt.yticks([], [])\n",
        "    plt.imshow(X, cmap = 'Greys')\n",
        "    print(f'本資料 y 給定的答案為: {y_train[n]}')\n",
        "def show_data(n = 509):\n",
        "    X = x_train[n]\n",
        "    print(X)\n",
        "#這是兩個測試用的函數，依樣因為很酷我就搬過來了"
      ],
      "metadata": {
        "id": "dRn-TziZzRU9"
      },
      "execution_count": null,
      "outputs": []
    },
    {
      "cell_type": "code",
      "source": [
        "interact_manual(show_xy, n=(0,59999));"
      ],
      "metadata": {
        "colab": {
          "base_uri": "https://localhost:8080/",
          "height": 81,
          "referenced_widgets": [
            "609a3c81f34f47e49f143eb74c30666d",
            "c3c1e3a0d66e48278ba82abd8f12fde1",
            "718f9799cf324eafbeca16431b935d2b",
            "20f67b774a1f4e01b326d6bb2372f111",
            "2b2adac990e14a6aa7f6c7d7d6f180c9",
            "481c3a9de1ef4fc1a949b945775167c1",
            "27c35d4a4bbb463d83d0f85c1458e60d",
            "a174d7f2d40b445281da644afcbcfae4",
            "ae7f6652c129400887d1f86b1a69f703",
            "824c467c02534190afb4d5e3fa38144f"
          ]
        },
        "id": "3GpZAZxZ0IbP",
        "outputId": "6e484153-1089-44c0-be08-269f29999069"
      },
      "execution_count": null,
      "outputs": [
        {
          "output_type": "display_data",
          "data": {
            "text/plain": [
              "interactive(children=(IntSlider(value=0, description='n', max=59999), Button(description='Run Interact', style…"
            ],
            "application/vnd.jupyter.widget-view+json": {
              "version_major": 2,
              "version_minor": 0,
              "model_id": "609a3c81f34f47e49f143eb74c30666d"
            }
          },
          "metadata": {}
        }
      ]
    },
    {
      "cell_type": "code",
      "source": [
        "interact_manual(show_data, n=(0,59999));"
      ],
      "metadata": {
        "colab": {
          "base_uri": "https://localhost:8080/",
          "height": 81,
          "referenced_widgets": [
            "1373554afe044c5ab39acf4e67cb3f0a",
            "a3ce817f0846489bb7d9b691d804aa52",
            "9d8c0f3f58484eb2816bf44ad58e3e62",
            "9b05d08089434a75a9ceeca86667fba8",
            "2256b171b1f44fde88572801a048e911",
            "b0cccaed05954505b00149e5649f5cc0",
            "6ca2a3987a8c4ba0ac34978711226d28",
            "54a9bb034aef4d55bf1c0a6c92ad3cbb",
            "1e6b3e0bde0e425ebd68c7e1df851efe",
            "89af40b0b1c546b1b0077cfac187ce3a"
          ]
        },
        "id": "amo_A0yO0btx",
        "outputId": "6881e674-ba18-4d53-939f-1684f7cf016c"
      },
      "execution_count": null,
      "outputs": [
        {
          "output_type": "display_data",
          "data": {
            "text/plain": [
              "interactive(children=(IntSlider(value=509, description='n', max=59999), Button(description='Run Interact', sty…"
            ],
            "application/vnd.jupyter.widget-view+json": {
              "version_major": 2,
              "version_minor": 0,
              "model_id": "1373554afe044c5ab39acf4e67cb3f0a"
            }
          },
          "metadata": {}
        }
      ]
    },
    {
      "cell_type": "markdown",
      "source": [
        "\n",
        "\n",
        "---\n",
        "\n"
      ],
      "metadata": {
        "id": "hqjos9qh0dQw"
      }
    },
    {
      "cell_type": "markdown",
      "source": [
        "以下才是正式開始，大部分的東西我都直接複製，畢竟前置作業大同小異，我硬是換句話說我覺得沒有意義"
      ],
      "metadata": {
        "id": "25usrO_stlrB"
      }
    },
    {
      "cell_type": "code",
      "source": [
        "x_train = x_train.reshape(60000, 784)/255\n",
        "x_test = x_test.reshape(10000, 784)/255\n",
        "y_train = to_categorical(y_train, 10)\n",
        "y_test = to_categorical(y_test, 10)"
      ],
      "metadata": {
        "collapsed": true,
        "id": "fb0zz0VA0d_V"
      },
      "execution_count": null,
      "outputs": []
    },
    {
      "cell_type": "code",
      "source": [
        "n = 134\n",
        "y_train[n]#這依樣是主觀想保留的，因為很好玩ww"
      ],
      "metadata": {
        "colab": {
          "base_uri": "https://localhost:8080/"
        },
        "id": "1CJj3CL81bdm",
        "outputId": "a2d7f88d-c54b-4d60-99f2-45dc4b299cc4"
      },
      "execution_count": null,
      "outputs": [
        {
          "output_type": "execute_result",
          "data": {
            "text/plain": [
              "array([0., 1., 0., 0., 0., 0., 0., 0., 0., 0.])"
            ]
          },
          "metadata": {},
          "execution_count": 10
        }
      ]
    },
    {
      "cell_type": "markdown",
      "source": [
        "\n",
        "\n",
        "---\n",
        "\n"
      ],
      "metadata": {
        "id": "HQF__qCZ1j8Z"
      }
    },
    {
      "cell_type": "markdown",
      "source": [
        "這裡的格式跟老師的不一樣，老師原本的打法雖然能行但會跳警告，有點躁所以改了\n",
        "\n",
        "然後BN跟dropout是小P教的，是防止過擬合跟加速的工具"
      ],
      "metadata": {
        "id": "13vc3UVyGyQx"
      }
    },
    {
      "cell_type": "code",
      "source": [
        "from tensorflow.keras.models import Sequential\n",
        "from tensorflow.keras.layers import Dense, Dropout, BatchNormalization, Input\n",
        "#這是小P作的二代模型，第一代正確率只有七成多，於是我就對她嘿嘿嘿了XD\n",
        "model = Sequential([\n",
        "    Input(shape=(784,)),  # 輸入層\n",
        "    Dense(512, activation='relu'),\n",
        "    BatchNormalization(),\n",
        "    Dropout(0.3),\n",
        "\n",
        "    Dense(256, activation='relu'),\n",
        "    BatchNormalization(),\n",
        "    Dropout(0.3),\n",
        "\n",
        "    Dense(128, activation='relu'),\n",
        "    Dropout(0.2),\n",
        "\n",
        "    Dense(64, activation='relu'),\n",
        "    Dropout(0.2),\n",
        "\n",
        "    Dense(32, activation='relu'),\n",
        "\n",
        "    Dense(10, activation='softmax')  # 最後輸出層\n",
        "])\n"
      ],
      "metadata": {
        "id": "M6MSlHCk1k-x"
      },
      "execution_count": null,
      "outputs": []
    },
    {
      "cell_type": "code",
      "source": [
        "from tensorflow.keras.optimizers import Adam\n",
        "model.compile(loss='categorical_crossentropy', optimizer=Adam(learning_rate=0.001), metrics=['accuracy'])\n",
        "#這裡也有改模式，不再是原本的最小平方法"
      ],
      "metadata": {
        "colab": {
          "base_uri": "https://localhost:8080/",
          "height": 319
        },
        "collapsed": true,
        "id": "L8F-x5vX28_S",
        "outputId": "9966bb54-079b-4a67-81ae-b8ed033dadce"
      },
      "execution_count": null,
      "outputs": [
        {
          "output_type": "error",
          "ename": "KeyboardInterrupt",
          "evalue": "",
          "traceback": [
            "\u001b[0;31m---------------------------------------------------------------------------\u001b[0m",
            "\u001b[0;31mKeyboardInterrupt\u001b[0m                         Traceback (most recent call last)",
            "\u001b[0;32m<ipython-input-2-de46e1bf62d8>\u001b[0m in \u001b[0;36m<cell line: 0>\u001b[0;34m()\u001b[0m\n\u001b[0;32m----> 1\u001b[0;31m \u001b[0;32mfrom\u001b[0m \u001b[0mtensorflow\u001b[0m\u001b[0;34m.\u001b[0m\u001b[0mkeras\u001b[0m\u001b[0;34m.\u001b[0m\u001b[0moptimizers\u001b[0m \u001b[0;32mimport\u001b[0m \u001b[0mAdam\u001b[0m\u001b[0;34m\u001b[0m\u001b[0;34m\u001b[0m\u001b[0m\n\u001b[0m\u001b[1;32m      2\u001b[0m \u001b[0mmodel\u001b[0m\u001b[0;34m.\u001b[0m\u001b[0mcompile\u001b[0m\u001b[0;34m(\u001b[0m\u001b[0mloss\u001b[0m\u001b[0;34m=\u001b[0m\u001b[0;34m'categorical_crossentropy'\u001b[0m\u001b[0;34m,\u001b[0m \u001b[0moptimizer\u001b[0m\u001b[0;34m=\u001b[0m\u001b[0mAdam\u001b[0m\u001b[0;34m(\u001b[0m\u001b[0mlearning_rate\u001b[0m\u001b[0;34m=\u001b[0m\u001b[0;36m0.001\u001b[0m\u001b[0;34m)\u001b[0m\u001b[0;34m,\u001b[0m \u001b[0mmetrics\u001b[0m\u001b[0;34m=\u001b[0m\u001b[0;34m[\u001b[0m\u001b[0;34m'accuracy'\u001b[0m\u001b[0;34m]\u001b[0m\u001b[0;34m)\u001b[0m\u001b[0;34m\u001b[0m\u001b[0;34m\u001b[0m\u001b[0m\n",
            "\u001b[0;32m/usr/local/lib/python3.11/dist-packages/tensorflow/__init__.py\u001b[0m in \u001b[0;36m<module>\u001b[0;34m\u001b[0m\n\u001b[1;32m    465\u001b[0m     \u001b[0mimportlib\u001b[0m\u001b[0;34m.\u001b[0m\u001b[0mimport_module\u001b[0m\u001b[0;34m(\u001b[0m\u001b[0;34m\"tf_keras.src.optimizers\"\u001b[0m\u001b[0;34m)\u001b[0m\u001b[0;34m\u001b[0m\u001b[0;34m\u001b[0m\u001b[0m\n\u001b[1;32m    466\u001b[0m   \u001b[0;32melse\u001b[0m\u001b[0;34m:\u001b[0m\u001b[0;34m\u001b[0m\u001b[0;34m\u001b[0m\u001b[0m\n\u001b[0;32m--> 467\u001b[0;31m     \u001b[0mimportlib\u001b[0m\u001b[0;34m.\u001b[0m\u001b[0mimport_module\u001b[0m\u001b[0;34m(\u001b[0m\u001b[0;34m\"keras.src.optimizers\"\u001b[0m\u001b[0;34m)\u001b[0m\u001b[0;34m\u001b[0m\u001b[0;34m\u001b[0m\u001b[0m\n\u001b[0m\u001b[1;32m    468\u001b[0m \u001b[0;32mexcept\u001b[0m \u001b[0;34m(\u001b[0m\u001b[0mImportError\u001b[0m\u001b[0;34m,\u001b[0m \u001b[0mAttributeError\u001b[0m\u001b[0;34m)\u001b[0m\u001b[0;34m:\u001b[0m\u001b[0;34m\u001b[0m\u001b[0;34m\u001b[0m\u001b[0m\n\u001b[1;32m    469\u001b[0m   \u001b[0;32mpass\u001b[0m\u001b[0;34m\u001b[0m\u001b[0;34m\u001b[0m\u001b[0m\n",
            "\u001b[0;32m/usr/lib/python3.11/importlib/__init__.py\u001b[0m in \u001b[0;36mimport_module\u001b[0;34m(name, package)\u001b[0m\n\u001b[1;32m    124\u001b[0m                 \u001b[0;32mbreak\u001b[0m\u001b[0;34m\u001b[0m\u001b[0;34m\u001b[0m\u001b[0m\n\u001b[1;32m    125\u001b[0m             \u001b[0mlevel\u001b[0m \u001b[0;34m+=\u001b[0m \u001b[0;36m1\u001b[0m\u001b[0;34m\u001b[0m\u001b[0;34m\u001b[0m\u001b[0m\n\u001b[0;32m--> 126\u001b[0;31m     \u001b[0;32mreturn\u001b[0m \u001b[0m_bootstrap\u001b[0m\u001b[0;34m.\u001b[0m\u001b[0m_gcd_import\u001b[0m\u001b[0;34m(\u001b[0m\u001b[0mname\u001b[0m\u001b[0;34m[\u001b[0m\u001b[0mlevel\u001b[0m\u001b[0;34m:\u001b[0m\u001b[0;34m]\u001b[0m\u001b[0;34m,\u001b[0m \u001b[0mpackage\u001b[0m\u001b[0;34m,\u001b[0m \u001b[0mlevel\u001b[0m\u001b[0;34m)\u001b[0m\u001b[0;34m\u001b[0m\u001b[0;34m\u001b[0m\u001b[0m\n\u001b[0m\u001b[1;32m    127\u001b[0m \u001b[0;34m\u001b[0m\u001b[0m\n\u001b[1;32m    128\u001b[0m \u001b[0;34m\u001b[0m\u001b[0m\n",
            "\u001b[0;32m/usr/local/lib/python3.11/dist-packages/keras/__init__.py\u001b[0m in \u001b[0;36m<module>\u001b[0;34m\u001b[0m\n\u001b[1;32m      1\u001b[0m \u001b[0;31m# DO NOT EDIT. Generated by api_gen.sh\u001b[0m\u001b[0;34m\u001b[0m\u001b[0;34m\u001b[0m\u001b[0m\n\u001b[0;32m----> 2\u001b[0;31m \u001b[0;32mfrom\u001b[0m \u001b[0mkeras\u001b[0m\u001b[0;34m.\u001b[0m\u001b[0mapi\u001b[0m \u001b[0;32mimport\u001b[0m \u001b[0mDTypePolicy\u001b[0m\u001b[0;34m\u001b[0m\u001b[0;34m\u001b[0m\u001b[0m\n\u001b[0m\u001b[1;32m      3\u001b[0m \u001b[0;32mfrom\u001b[0m \u001b[0mkeras\u001b[0m\u001b[0;34m.\u001b[0m\u001b[0mapi\u001b[0m \u001b[0;32mimport\u001b[0m \u001b[0mFloatDTypePolicy\u001b[0m\u001b[0;34m\u001b[0m\u001b[0;34m\u001b[0m\u001b[0m\n\u001b[1;32m      4\u001b[0m \u001b[0;32mfrom\u001b[0m \u001b[0mkeras\u001b[0m\u001b[0;34m.\u001b[0m\u001b[0mapi\u001b[0m \u001b[0;32mimport\u001b[0m \u001b[0mFunction\u001b[0m\u001b[0;34m\u001b[0m\u001b[0;34m\u001b[0m\u001b[0m\n\u001b[1;32m      5\u001b[0m \u001b[0;32mfrom\u001b[0m \u001b[0mkeras\u001b[0m\u001b[0;34m.\u001b[0m\u001b[0mapi\u001b[0m \u001b[0;32mimport\u001b[0m \u001b[0mInitializer\u001b[0m\u001b[0;34m\u001b[0m\u001b[0;34m\u001b[0m\u001b[0m\n",
            "\u001b[0;32m/usr/local/lib/python3.11/dist-packages/keras/api/__init__.py\u001b[0m in \u001b[0;36m<module>\u001b[0;34m\u001b[0m\n\u001b[1;32m      6\u001b[0m \u001b[0;34m\u001b[0m\u001b[0m\n\u001b[1;32m      7\u001b[0m \u001b[0;34m\u001b[0m\u001b[0m\n\u001b[0;32m----> 8\u001b[0;31m \u001b[0;32mfrom\u001b[0m \u001b[0mkeras\u001b[0m\u001b[0;34m.\u001b[0m\u001b[0mapi\u001b[0m \u001b[0;32mimport\u001b[0m \u001b[0mactivations\u001b[0m\u001b[0;34m\u001b[0m\u001b[0;34m\u001b[0m\u001b[0m\n\u001b[0m\u001b[1;32m      9\u001b[0m \u001b[0;32mfrom\u001b[0m \u001b[0mkeras\u001b[0m\u001b[0;34m.\u001b[0m\u001b[0mapi\u001b[0m \u001b[0;32mimport\u001b[0m \u001b[0mapplications\u001b[0m\u001b[0;34m\u001b[0m\u001b[0;34m\u001b[0m\u001b[0m\n\u001b[1;32m     10\u001b[0m \u001b[0;32mfrom\u001b[0m \u001b[0mkeras\u001b[0m\u001b[0;34m.\u001b[0m\u001b[0mapi\u001b[0m \u001b[0;32mimport\u001b[0m \u001b[0mbackend\u001b[0m\u001b[0;34m\u001b[0m\u001b[0;34m\u001b[0m\u001b[0m\n",
            "\u001b[0;32m/usr/local/lib/python3.11/dist-packages/keras/api/activations/__init__.py\u001b[0m in \u001b[0;36m<module>\u001b[0;34m\u001b[0m\n\u001b[1;32m      5\u001b[0m \"\"\"\n\u001b[1;32m      6\u001b[0m \u001b[0;34m\u001b[0m\u001b[0m\n\u001b[0;32m----> 7\u001b[0;31m \u001b[0;32mfrom\u001b[0m \u001b[0mkeras\u001b[0m\u001b[0;34m.\u001b[0m\u001b[0msrc\u001b[0m\u001b[0;34m.\u001b[0m\u001b[0mactivations\u001b[0m \u001b[0;32mimport\u001b[0m \u001b[0mdeserialize\u001b[0m\u001b[0;34m\u001b[0m\u001b[0;34m\u001b[0m\u001b[0m\n\u001b[0m\u001b[1;32m      8\u001b[0m \u001b[0;32mfrom\u001b[0m \u001b[0mkeras\u001b[0m\u001b[0;34m.\u001b[0m\u001b[0msrc\u001b[0m\u001b[0;34m.\u001b[0m\u001b[0mactivations\u001b[0m \u001b[0;32mimport\u001b[0m \u001b[0mget\u001b[0m\u001b[0;34m\u001b[0m\u001b[0;34m\u001b[0m\u001b[0m\n\u001b[1;32m      9\u001b[0m \u001b[0;32mfrom\u001b[0m \u001b[0mkeras\u001b[0m\u001b[0;34m.\u001b[0m\u001b[0msrc\u001b[0m\u001b[0;34m.\u001b[0m\u001b[0mactivations\u001b[0m \u001b[0;32mimport\u001b[0m \u001b[0mserialize\u001b[0m\u001b[0;34m\u001b[0m\u001b[0;34m\u001b[0m\u001b[0m\n",
            "\u001b[0;32m/usr/local/lib/python3.11/dist-packages/keras/src/__init__.py\u001b[0m in \u001b[0;36m<module>\u001b[0;34m\u001b[0m\n\u001b[0;32m----> 1\u001b[0;31m \u001b[0;32mfrom\u001b[0m \u001b[0mkeras\u001b[0m\u001b[0;34m.\u001b[0m\u001b[0msrc\u001b[0m \u001b[0;32mimport\u001b[0m \u001b[0mactivations\u001b[0m\u001b[0;34m\u001b[0m\u001b[0;34m\u001b[0m\u001b[0m\n\u001b[0m\u001b[1;32m      2\u001b[0m \u001b[0;32mfrom\u001b[0m \u001b[0mkeras\u001b[0m\u001b[0;34m.\u001b[0m\u001b[0msrc\u001b[0m \u001b[0;32mimport\u001b[0m \u001b[0mapplications\u001b[0m\u001b[0;34m\u001b[0m\u001b[0;34m\u001b[0m\u001b[0m\n\u001b[1;32m      3\u001b[0m \u001b[0;32mfrom\u001b[0m \u001b[0mkeras\u001b[0m\u001b[0;34m.\u001b[0m\u001b[0msrc\u001b[0m \u001b[0;32mimport\u001b[0m \u001b[0mbackend\u001b[0m\u001b[0;34m\u001b[0m\u001b[0;34m\u001b[0m\u001b[0m\n\u001b[1;32m      4\u001b[0m \u001b[0;32mfrom\u001b[0m \u001b[0mkeras\u001b[0m\u001b[0;34m.\u001b[0m\u001b[0msrc\u001b[0m \u001b[0;32mimport\u001b[0m \u001b[0mconstraints\u001b[0m\u001b[0;34m\u001b[0m\u001b[0;34m\u001b[0m\u001b[0m\n\u001b[1;32m      5\u001b[0m \u001b[0;32mfrom\u001b[0m \u001b[0mkeras\u001b[0m\u001b[0;34m.\u001b[0m\u001b[0msrc\u001b[0m \u001b[0;32mimport\u001b[0m \u001b[0mdatasets\u001b[0m\u001b[0;34m\u001b[0m\u001b[0;34m\u001b[0m\u001b[0m\n",
            "\u001b[0;32m/usr/local/lib/python3.11/dist-packages/keras/src/activations/__init__.py\u001b[0m in \u001b[0;36m<module>\u001b[0;34m\u001b[0m\n\u001b[1;32m     31\u001b[0m \u001b[0;32mfrom\u001b[0m \u001b[0mkeras\u001b[0m\u001b[0;34m.\u001b[0m\u001b[0msrc\u001b[0m\u001b[0;34m.\u001b[0m\u001b[0mactivations\u001b[0m\u001b[0;34m.\u001b[0m\u001b[0mactivations\u001b[0m \u001b[0;32mimport\u001b[0m \u001b[0mthreshold\u001b[0m\u001b[0;34m\u001b[0m\u001b[0;34m\u001b[0m\u001b[0m\n\u001b[1;32m     32\u001b[0m \u001b[0;32mfrom\u001b[0m \u001b[0mkeras\u001b[0m\u001b[0;34m.\u001b[0m\u001b[0msrc\u001b[0m\u001b[0;34m.\u001b[0m\u001b[0mapi_export\u001b[0m \u001b[0;32mimport\u001b[0m \u001b[0mkeras_export\u001b[0m\u001b[0;34m\u001b[0m\u001b[0;34m\u001b[0m\u001b[0m\n\u001b[0;32m---> 33\u001b[0;31m \u001b[0;32mfrom\u001b[0m \u001b[0mkeras\u001b[0m\u001b[0;34m.\u001b[0m\u001b[0msrc\u001b[0m\u001b[0;34m.\u001b[0m\u001b[0msaving\u001b[0m \u001b[0;32mimport\u001b[0m \u001b[0mobject_registration\u001b[0m\u001b[0;34m\u001b[0m\u001b[0;34m\u001b[0m\u001b[0m\n\u001b[0m\u001b[1;32m     34\u001b[0m \u001b[0;32mfrom\u001b[0m \u001b[0mkeras\u001b[0m\u001b[0;34m.\u001b[0m\u001b[0msrc\u001b[0m\u001b[0;34m.\u001b[0m\u001b[0msaving\u001b[0m \u001b[0;32mimport\u001b[0m \u001b[0mserialization_lib\u001b[0m\u001b[0;34m\u001b[0m\u001b[0;34m\u001b[0m\u001b[0m\n\u001b[1;32m     35\u001b[0m \u001b[0;34m\u001b[0m\u001b[0m\n",
            "\u001b[0;32m/usr/local/lib/python3.11/dist-packages/keras/src/saving/__init__.py\u001b[0m in \u001b[0;36m<module>\u001b[0;34m\u001b[0m\n\u001b[1;32m      5\u001b[0m \u001b[0;32mfrom\u001b[0m \u001b[0mkeras\u001b[0m\u001b[0;34m.\u001b[0m\u001b[0msrc\u001b[0m\u001b[0;34m.\u001b[0m\u001b[0msaving\u001b[0m\u001b[0;34m.\u001b[0m\u001b[0mobject_registration\u001b[0m \u001b[0;32mimport\u001b[0m \u001b[0mget_registered_object\u001b[0m\u001b[0;34m\u001b[0m\u001b[0;34m\u001b[0m\u001b[0m\n\u001b[1;32m      6\u001b[0m \u001b[0;32mfrom\u001b[0m \u001b[0mkeras\u001b[0m\u001b[0;34m.\u001b[0m\u001b[0msrc\u001b[0m\u001b[0;34m.\u001b[0m\u001b[0msaving\u001b[0m\u001b[0;34m.\u001b[0m\u001b[0mobject_registration\u001b[0m \u001b[0;32mimport\u001b[0m \u001b[0mregister_keras_serializable\u001b[0m\u001b[0;34m\u001b[0m\u001b[0;34m\u001b[0m\u001b[0m\n\u001b[0;32m----> 7\u001b[0;31m \u001b[0;32mfrom\u001b[0m \u001b[0mkeras\u001b[0m\u001b[0;34m.\u001b[0m\u001b[0msrc\u001b[0m\u001b[0;34m.\u001b[0m\u001b[0msaving\u001b[0m\u001b[0;34m.\u001b[0m\u001b[0msaving_api\u001b[0m \u001b[0;32mimport\u001b[0m \u001b[0mload_model\u001b[0m\u001b[0;34m\u001b[0m\u001b[0;34m\u001b[0m\u001b[0m\n\u001b[0m\u001b[1;32m      8\u001b[0m \u001b[0;32mfrom\u001b[0m \u001b[0mkeras\u001b[0m\u001b[0;34m.\u001b[0m\u001b[0msrc\u001b[0m\u001b[0;34m.\u001b[0m\u001b[0msaving\u001b[0m\u001b[0;34m.\u001b[0m\u001b[0mserialization_lib\u001b[0m \u001b[0;32mimport\u001b[0m \u001b[0mdeserialize_keras_object\u001b[0m\u001b[0;34m\u001b[0m\u001b[0;34m\u001b[0m\u001b[0m\n\u001b[1;32m      9\u001b[0m \u001b[0;32mfrom\u001b[0m \u001b[0mkeras\u001b[0m\u001b[0;34m.\u001b[0m\u001b[0msrc\u001b[0m\u001b[0;34m.\u001b[0m\u001b[0msaving\u001b[0m\u001b[0;34m.\u001b[0m\u001b[0mserialization_lib\u001b[0m \u001b[0;32mimport\u001b[0m \u001b[0mserialize_keras_object\u001b[0m\u001b[0;34m\u001b[0m\u001b[0;34m\u001b[0m\u001b[0m\n",
            "\u001b[0;32m/usr/local/lib/python3.11/dist-packages/keras/src/saving/saving_api.py\u001b[0m in \u001b[0;36m<module>\u001b[0;34m\u001b[0m\n\u001b[1;32m      5\u001b[0m \u001b[0;34m\u001b[0m\u001b[0m\n\u001b[1;32m      6\u001b[0m \u001b[0;32mfrom\u001b[0m \u001b[0mkeras\u001b[0m\u001b[0;34m.\u001b[0m\u001b[0msrc\u001b[0m\u001b[0;34m.\u001b[0m\u001b[0mapi_export\u001b[0m \u001b[0;32mimport\u001b[0m \u001b[0mkeras_export\u001b[0m\u001b[0;34m\u001b[0m\u001b[0;34m\u001b[0m\u001b[0m\n\u001b[0;32m----> 7\u001b[0;31m \u001b[0;32mfrom\u001b[0m \u001b[0mkeras\u001b[0m\u001b[0;34m.\u001b[0m\u001b[0msrc\u001b[0m\u001b[0;34m.\u001b[0m\u001b[0mlegacy\u001b[0m\u001b[0;34m.\u001b[0m\u001b[0msaving\u001b[0m \u001b[0;32mimport\u001b[0m \u001b[0mlegacy_h5_format\u001b[0m\u001b[0;34m\u001b[0m\u001b[0;34m\u001b[0m\u001b[0m\n\u001b[0m\u001b[1;32m      8\u001b[0m \u001b[0;32mfrom\u001b[0m \u001b[0mkeras\u001b[0m\u001b[0;34m.\u001b[0m\u001b[0msrc\u001b[0m\u001b[0;34m.\u001b[0m\u001b[0msaving\u001b[0m \u001b[0;32mimport\u001b[0m \u001b[0msaving_lib\u001b[0m\u001b[0;34m\u001b[0m\u001b[0;34m\u001b[0m\u001b[0m\n\u001b[1;32m      9\u001b[0m \u001b[0;32mfrom\u001b[0m \u001b[0mkeras\u001b[0m\u001b[0;34m.\u001b[0m\u001b[0msrc\u001b[0m\u001b[0;34m.\u001b[0m\u001b[0mutils\u001b[0m \u001b[0;32mimport\u001b[0m \u001b[0mfile_utils\u001b[0m\u001b[0;34m\u001b[0m\u001b[0;34m\u001b[0m\u001b[0m\n",
            "\u001b[0;32m/usr/local/lib/python3.11/dist-packages/keras/src/legacy/saving/legacy_h5_format.py\u001b[0m in \u001b[0;36m<module>\u001b[0;34m\u001b[0m\n\u001b[1;32m     11\u001b[0m \u001b[0;32mfrom\u001b[0m \u001b[0mkeras\u001b[0m\u001b[0;34m.\u001b[0m\u001b[0msrc\u001b[0m\u001b[0;34m.\u001b[0m\u001b[0mlegacy\u001b[0m\u001b[0;34m.\u001b[0m\u001b[0msaving\u001b[0m \u001b[0;32mimport\u001b[0m \u001b[0mjson_utils\u001b[0m\u001b[0;34m\u001b[0m\u001b[0;34m\u001b[0m\u001b[0m\n\u001b[1;32m     12\u001b[0m \u001b[0;32mfrom\u001b[0m \u001b[0mkeras\u001b[0m\u001b[0;34m.\u001b[0m\u001b[0msrc\u001b[0m\u001b[0;34m.\u001b[0m\u001b[0mlegacy\u001b[0m\u001b[0;34m.\u001b[0m\u001b[0msaving\u001b[0m \u001b[0;32mimport\u001b[0m \u001b[0msaving_options\u001b[0m\u001b[0;34m\u001b[0m\u001b[0;34m\u001b[0m\u001b[0m\n\u001b[0;32m---> 13\u001b[0;31m \u001b[0;32mfrom\u001b[0m \u001b[0mkeras\u001b[0m\u001b[0;34m.\u001b[0m\u001b[0msrc\u001b[0m\u001b[0;34m.\u001b[0m\u001b[0mlegacy\u001b[0m\u001b[0;34m.\u001b[0m\u001b[0msaving\u001b[0m \u001b[0;32mimport\u001b[0m \u001b[0msaving_utils\u001b[0m\u001b[0;34m\u001b[0m\u001b[0;34m\u001b[0m\u001b[0m\n\u001b[0m\u001b[1;32m     14\u001b[0m \u001b[0;32mfrom\u001b[0m \u001b[0mkeras\u001b[0m\u001b[0;34m.\u001b[0m\u001b[0msrc\u001b[0m\u001b[0;34m.\u001b[0m\u001b[0msaving\u001b[0m \u001b[0;32mimport\u001b[0m \u001b[0mobject_registration\u001b[0m\u001b[0;34m\u001b[0m\u001b[0;34m\u001b[0m\u001b[0m\n\u001b[1;32m     15\u001b[0m \u001b[0;32mfrom\u001b[0m \u001b[0mkeras\u001b[0m\u001b[0;34m.\u001b[0m\u001b[0msrc\u001b[0m\u001b[0;34m.\u001b[0m\u001b[0mutils\u001b[0m \u001b[0;32mimport\u001b[0m \u001b[0mio_utils\u001b[0m\u001b[0;34m\u001b[0m\u001b[0;34m\u001b[0m\u001b[0m\n",
            "\u001b[0;32m/usr/local/lib/python3.11/dist-packages/keras/src/legacy/saving/saving_utils.py\u001b[0m in \u001b[0;36m<module>\u001b[0;34m\u001b[0m\n\u001b[1;32m      8\u001b[0m \u001b[0;32mfrom\u001b[0m \u001b[0mkeras\u001b[0m\u001b[0;34m.\u001b[0m\u001b[0msrc\u001b[0m \u001b[0;32mimport\u001b[0m \u001b[0mlosses\u001b[0m\u001b[0;34m\u001b[0m\u001b[0;34m\u001b[0m\u001b[0m\n\u001b[1;32m      9\u001b[0m \u001b[0;32mfrom\u001b[0m \u001b[0mkeras\u001b[0m\u001b[0;34m.\u001b[0m\u001b[0msrc\u001b[0m \u001b[0;32mimport\u001b[0m \u001b[0mmetrics\u001b[0m \u001b[0;32mas\u001b[0m \u001b[0mmetrics_module\u001b[0m\u001b[0;34m\u001b[0m\u001b[0;34m\u001b[0m\u001b[0m\n\u001b[0;32m---> 10\u001b[0;31m \u001b[0;32mfrom\u001b[0m \u001b[0mkeras\u001b[0m\u001b[0;34m.\u001b[0m\u001b[0msrc\u001b[0m \u001b[0;32mimport\u001b[0m \u001b[0mmodels\u001b[0m\u001b[0;34m\u001b[0m\u001b[0;34m\u001b[0m\u001b[0m\n\u001b[0m\u001b[1;32m     11\u001b[0m \u001b[0;32mfrom\u001b[0m \u001b[0mkeras\u001b[0m\u001b[0;34m.\u001b[0m\u001b[0msrc\u001b[0m \u001b[0;32mimport\u001b[0m \u001b[0moptimizers\u001b[0m\u001b[0;34m\u001b[0m\u001b[0;34m\u001b[0m\u001b[0m\n\u001b[1;32m     12\u001b[0m \u001b[0;32mfrom\u001b[0m \u001b[0mkeras\u001b[0m\u001b[0;34m.\u001b[0m\u001b[0msrc\u001b[0m \u001b[0;32mimport\u001b[0m \u001b[0mtree\u001b[0m\u001b[0;34m\u001b[0m\u001b[0;34m\u001b[0m\u001b[0m\n",
            "\u001b[0;32m/usr/local/lib/python3.11/dist-packages/keras/src/models/__init__.py\u001b[0m in \u001b[0;36m<module>\u001b[0;34m\u001b[0m\n\u001b[0;32m----> 1\u001b[0;31m \u001b[0;32mfrom\u001b[0m \u001b[0mkeras\u001b[0m\u001b[0;34m.\u001b[0m\u001b[0msrc\u001b[0m\u001b[0;34m.\u001b[0m\u001b[0mmodels\u001b[0m\u001b[0;34m.\u001b[0m\u001b[0mfunctional\u001b[0m \u001b[0;32mimport\u001b[0m \u001b[0mFunctional\u001b[0m\u001b[0;34m\u001b[0m\u001b[0;34m\u001b[0m\u001b[0m\n\u001b[0m\u001b[1;32m      2\u001b[0m \u001b[0;32mfrom\u001b[0m \u001b[0mkeras\u001b[0m\u001b[0;34m.\u001b[0m\u001b[0msrc\u001b[0m\u001b[0;34m.\u001b[0m\u001b[0mmodels\u001b[0m\u001b[0;34m.\u001b[0m\u001b[0mmodel\u001b[0m \u001b[0;32mimport\u001b[0m \u001b[0mModel\u001b[0m\u001b[0;34m\u001b[0m\u001b[0;34m\u001b[0m\u001b[0m\n\u001b[1;32m      3\u001b[0m \u001b[0;32mfrom\u001b[0m \u001b[0mkeras\u001b[0m\u001b[0;34m.\u001b[0m\u001b[0msrc\u001b[0m\u001b[0;34m.\u001b[0m\u001b[0mmodels\u001b[0m\u001b[0;34m.\u001b[0m\u001b[0msequential\u001b[0m \u001b[0;32mimport\u001b[0m \u001b[0mSequential\u001b[0m\u001b[0;34m\u001b[0m\u001b[0;34m\u001b[0m\u001b[0m\n",
            "\u001b[0;32m/usr/local/lib/python3.11/dist-packages/keras/src/models/functional.py\u001b[0m in \u001b[0;36m<module>\u001b[0;34m\u001b[0m\n\u001b[1;32m     14\u001b[0m \u001b[0;32mfrom\u001b[0m \u001b[0mkeras\u001b[0m\u001b[0;34m.\u001b[0m\u001b[0msrc\u001b[0m\u001b[0;34m.\u001b[0m\u001b[0mlegacy\u001b[0m\u001b[0;34m.\u001b[0m\u001b[0msaving\u001b[0m \u001b[0;32mimport\u001b[0m \u001b[0msaving_utils\u001b[0m\u001b[0;34m\u001b[0m\u001b[0;34m\u001b[0m\u001b[0m\n\u001b[1;32m     15\u001b[0m \u001b[0;32mfrom\u001b[0m \u001b[0mkeras\u001b[0m\u001b[0;34m.\u001b[0m\u001b[0msrc\u001b[0m\u001b[0;34m.\u001b[0m\u001b[0mlegacy\u001b[0m\u001b[0;34m.\u001b[0m\u001b[0msaving\u001b[0m \u001b[0;32mimport\u001b[0m \u001b[0mserialization\u001b[0m \u001b[0;32mas\u001b[0m \u001b[0mlegacy_serialization\u001b[0m\u001b[0;34m\u001b[0m\u001b[0;34m\u001b[0m\u001b[0m\n\u001b[0;32m---> 16\u001b[0;31m \u001b[0;32mfrom\u001b[0m \u001b[0mkeras\u001b[0m\u001b[0;34m.\u001b[0m\u001b[0msrc\u001b[0m\u001b[0;34m.\u001b[0m\u001b[0mmodels\u001b[0m\u001b[0;34m.\u001b[0m\u001b[0mmodel\u001b[0m \u001b[0;32mimport\u001b[0m \u001b[0mModel\u001b[0m\u001b[0;34m\u001b[0m\u001b[0;34m\u001b[0m\u001b[0m\n\u001b[0m\u001b[1;32m     17\u001b[0m \u001b[0;32mfrom\u001b[0m \u001b[0mkeras\u001b[0m\u001b[0;34m.\u001b[0m\u001b[0msrc\u001b[0m\u001b[0;34m.\u001b[0m\u001b[0mops\u001b[0m\u001b[0;34m.\u001b[0m\u001b[0mfunction\u001b[0m \u001b[0;32mimport\u001b[0m \u001b[0mFunction\u001b[0m\u001b[0;34m\u001b[0m\u001b[0;34m\u001b[0m\u001b[0m\n\u001b[1;32m     18\u001b[0m \u001b[0;32mfrom\u001b[0m \u001b[0mkeras\u001b[0m\u001b[0;34m.\u001b[0m\u001b[0msrc\u001b[0m\u001b[0;34m.\u001b[0m\u001b[0mops\u001b[0m\u001b[0;34m.\u001b[0m\u001b[0mfunction\u001b[0m \u001b[0;32mimport\u001b[0m \u001b[0m_build_map\u001b[0m\u001b[0;34m\u001b[0m\u001b[0;34m\u001b[0m\u001b[0m\n",
            "\u001b[0;32m/usr/local/lib/python3.11/dist-packages/keras/src/models/model.py\u001b[0m in \u001b[0;36m<module>\u001b[0;34m\u001b[0m\n\u001b[1;32m     10\u001b[0m \u001b[0;32mfrom\u001b[0m \u001b[0mkeras\u001b[0m\u001b[0;34m.\u001b[0m\u001b[0msrc\u001b[0m\u001b[0;34m.\u001b[0m\u001b[0mmodels\u001b[0m\u001b[0;34m.\u001b[0m\u001b[0mvariable_mapping\u001b[0m \u001b[0;32mimport\u001b[0m \u001b[0mmap_saveable_variables\u001b[0m\u001b[0;34m\u001b[0m\u001b[0;34m\u001b[0m\u001b[0m\n\u001b[1;32m     11\u001b[0m \u001b[0;32mfrom\u001b[0m \u001b[0mkeras\u001b[0m\u001b[0;34m.\u001b[0m\u001b[0msrc\u001b[0m\u001b[0;34m.\u001b[0m\u001b[0msaving\u001b[0m \u001b[0;32mimport\u001b[0m \u001b[0msaving_api\u001b[0m\u001b[0;34m\u001b[0m\u001b[0;34m\u001b[0m\u001b[0m\n\u001b[0;32m---> 12\u001b[0;31m \u001b[0;32mfrom\u001b[0m \u001b[0mkeras\u001b[0m\u001b[0;34m.\u001b[0m\u001b[0msrc\u001b[0m\u001b[0;34m.\u001b[0m\u001b[0mtrainers\u001b[0m \u001b[0;32mimport\u001b[0m \u001b[0mtrainer\u001b[0m \u001b[0;32mas\u001b[0m \u001b[0mbase_trainer\u001b[0m\u001b[0;34m\u001b[0m\u001b[0;34m\u001b[0m\u001b[0m\n\u001b[0m\u001b[1;32m     13\u001b[0m \u001b[0;32mfrom\u001b[0m \u001b[0mkeras\u001b[0m\u001b[0;34m.\u001b[0m\u001b[0msrc\u001b[0m\u001b[0;34m.\u001b[0m\u001b[0mutils\u001b[0m \u001b[0;32mimport\u001b[0m \u001b[0msummary_utils\u001b[0m\u001b[0;34m\u001b[0m\u001b[0;34m\u001b[0m\u001b[0m\n\u001b[1;32m     14\u001b[0m \u001b[0;32mfrom\u001b[0m \u001b[0mkeras\u001b[0m\u001b[0;34m.\u001b[0m\u001b[0msrc\u001b[0m\u001b[0;34m.\u001b[0m\u001b[0mutils\u001b[0m \u001b[0;32mimport\u001b[0m \u001b[0mtraceback_utils\u001b[0m\u001b[0;34m\u001b[0m\u001b[0;34m\u001b[0m\u001b[0m\n",
            "\u001b[0;32m/usr/local/lib/python3.11/dist-packages/keras/src/trainers/trainer.py\u001b[0m in \u001b[0;36m<module>\u001b[0;34m\u001b[0m\n\u001b[1;32m     12\u001b[0m \u001b[0;32mfrom\u001b[0m \u001b[0mkeras\u001b[0m\u001b[0;34m.\u001b[0m\u001b[0msrc\u001b[0m\u001b[0;34m.\u001b[0m\u001b[0mtrainers\u001b[0m\u001b[0;34m.\u001b[0m\u001b[0mcompile_utils\u001b[0m \u001b[0;32mimport\u001b[0m \u001b[0mCompileLoss\u001b[0m\u001b[0;34m\u001b[0m\u001b[0;34m\u001b[0m\u001b[0m\n\u001b[1;32m     13\u001b[0m \u001b[0;32mfrom\u001b[0m \u001b[0mkeras\u001b[0m\u001b[0;34m.\u001b[0m\u001b[0msrc\u001b[0m\u001b[0;34m.\u001b[0m\u001b[0mtrainers\u001b[0m\u001b[0;34m.\u001b[0m\u001b[0mcompile_utils\u001b[0m \u001b[0;32mimport\u001b[0m \u001b[0mCompileMetrics\u001b[0m\u001b[0;34m\u001b[0m\u001b[0;34m\u001b[0m\u001b[0m\n\u001b[0;32m---> 14\u001b[0;31m \u001b[0;32mfrom\u001b[0m \u001b[0mkeras\u001b[0m\u001b[0;34m.\u001b[0m\u001b[0msrc\u001b[0m\u001b[0;34m.\u001b[0m\u001b[0mtrainers\u001b[0m\u001b[0;34m.\u001b[0m\u001b[0mdata_adapters\u001b[0m \u001b[0;32mimport\u001b[0m \u001b[0mdata_adapter_utils\u001b[0m\u001b[0;34m\u001b[0m\u001b[0;34m\u001b[0m\u001b[0m\n\u001b[0m\u001b[1;32m     15\u001b[0m \u001b[0;32mfrom\u001b[0m \u001b[0mkeras\u001b[0m\u001b[0;34m.\u001b[0m\u001b[0msrc\u001b[0m\u001b[0;34m.\u001b[0m\u001b[0mutils\u001b[0m \u001b[0;32mimport\u001b[0m \u001b[0mpython_utils\u001b[0m\u001b[0;34m\u001b[0m\u001b[0;34m\u001b[0m\u001b[0m\n\u001b[1;32m     16\u001b[0m \u001b[0;32mfrom\u001b[0m \u001b[0mkeras\u001b[0m\u001b[0;34m.\u001b[0m\u001b[0msrc\u001b[0m\u001b[0;34m.\u001b[0m\u001b[0mutils\u001b[0m \u001b[0;32mimport\u001b[0m \u001b[0mtraceback_utils\u001b[0m\u001b[0;34m\u001b[0m\u001b[0;34m\u001b[0m\u001b[0m\n",
            "\u001b[0;32m/usr/local/lib/python3.11/dist-packages/keras/src/trainers/data_adapters/__init__.py\u001b[0m in \u001b[0;36m<module>\u001b[0;34m\u001b[0m\n\u001b[1;32m      2\u001b[0m \u001b[0;34m\u001b[0m\u001b[0m\n\u001b[1;32m      3\u001b[0m \u001b[0;32mfrom\u001b[0m \u001b[0mkeras\u001b[0m\u001b[0;34m.\u001b[0m\u001b[0msrc\u001b[0m\u001b[0;34m.\u001b[0m\u001b[0mdistribution\u001b[0m \u001b[0;32mimport\u001b[0m \u001b[0mdistribution_lib\u001b[0m\u001b[0;34m\u001b[0m\u001b[0;34m\u001b[0m\u001b[0m\n\u001b[0;32m----> 4\u001b[0;31m \u001b[0;32mfrom\u001b[0m \u001b[0mkeras\u001b[0m\u001b[0;34m.\u001b[0m\u001b[0msrc\u001b[0m\u001b[0;34m.\u001b[0m\u001b[0mtrainers\u001b[0m\u001b[0;34m.\u001b[0m\u001b[0mdata_adapters\u001b[0m \u001b[0;32mimport\u001b[0m \u001b[0marray_data_adapter\u001b[0m\u001b[0;34m\u001b[0m\u001b[0;34m\u001b[0m\u001b[0m\n\u001b[0m\u001b[1;32m      5\u001b[0m \u001b[0;32mfrom\u001b[0m \u001b[0mkeras\u001b[0m\u001b[0;34m.\u001b[0m\u001b[0msrc\u001b[0m\u001b[0;34m.\u001b[0m\u001b[0mtrainers\u001b[0m\u001b[0;34m.\u001b[0m\u001b[0mdata_adapters\u001b[0m \u001b[0;32mimport\u001b[0m \u001b[0mdata_adapter\u001b[0m\u001b[0;34m\u001b[0m\u001b[0;34m\u001b[0m\u001b[0m\n\u001b[1;32m      6\u001b[0m \u001b[0;32mfrom\u001b[0m \u001b[0mkeras\u001b[0m\u001b[0;34m.\u001b[0m\u001b[0msrc\u001b[0m\u001b[0;34m.\u001b[0m\u001b[0mtrainers\u001b[0m\u001b[0;34m.\u001b[0m\u001b[0mdata_adapters\u001b[0m \u001b[0;32mimport\u001b[0m \u001b[0mpy_dataset_adapter\u001b[0m\u001b[0;34m\u001b[0m\u001b[0;34m\u001b[0m\u001b[0m\n",
            "\u001b[0;32m/usr/local/lib/python3.11/dist-packages/keras/src/trainers/data_adapters/array_data_adapter.py\u001b[0m in \u001b[0;36m<module>\u001b[0;34m\u001b[0m\n\u001b[1;32m      5\u001b[0m \u001b[0;34m\u001b[0m\u001b[0m\n\u001b[1;32m      6\u001b[0m \u001b[0;32mfrom\u001b[0m \u001b[0mkeras\u001b[0m\u001b[0;34m.\u001b[0m\u001b[0msrc\u001b[0m \u001b[0;32mimport\u001b[0m \u001b[0mtree\u001b[0m\u001b[0;34m\u001b[0m\u001b[0;34m\u001b[0m\u001b[0m\n\u001b[0;32m----> 7\u001b[0;31m \u001b[0;32mfrom\u001b[0m \u001b[0mkeras\u001b[0m\u001b[0;34m.\u001b[0m\u001b[0msrc\u001b[0m\u001b[0;34m.\u001b[0m\u001b[0mtrainers\u001b[0m\u001b[0;34m.\u001b[0m\u001b[0mdata_adapters\u001b[0m \u001b[0;32mimport\u001b[0m \u001b[0marray_slicing\u001b[0m\u001b[0;34m\u001b[0m\u001b[0;34m\u001b[0m\u001b[0m\n\u001b[0m\u001b[1;32m      8\u001b[0m \u001b[0;32mfrom\u001b[0m \u001b[0mkeras\u001b[0m\u001b[0;34m.\u001b[0m\u001b[0msrc\u001b[0m\u001b[0;34m.\u001b[0m\u001b[0mtrainers\u001b[0m\u001b[0;34m.\u001b[0m\u001b[0mdata_adapters\u001b[0m \u001b[0;32mimport\u001b[0m \u001b[0mdata_adapter_utils\u001b[0m\u001b[0;34m\u001b[0m\u001b[0;34m\u001b[0m\u001b[0m\n\u001b[1;32m      9\u001b[0m \u001b[0;32mfrom\u001b[0m \u001b[0mkeras\u001b[0m\u001b[0;34m.\u001b[0m\u001b[0msrc\u001b[0m\u001b[0;34m.\u001b[0m\u001b[0mtrainers\u001b[0m\u001b[0;34m.\u001b[0m\u001b[0mdata_adapters\u001b[0m\u001b[0;34m.\u001b[0m\u001b[0mdata_adapter\u001b[0m \u001b[0;32mimport\u001b[0m \u001b[0mDataAdapter\u001b[0m\u001b[0;34m\u001b[0m\u001b[0;34m\u001b[0m\u001b[0m\n",
            "\u001b[0;32m/usr/local/lib/python3.11/dist-packages/keras/src/trainers/data_adapters/array_slicing.py\u001b[0m in \u001b[0;36m<module>\u001b[0;34m\u001b[0m\n\u001b[1;32m     10\u001b[0m \u001b[0;34m\u001b[0m\u001b[0m\n\u001b[1;32m     11\u001b[0m \u001b[0;32mtry\u001b[0m\u001b[0;34m:\u001b[0m\u001b[0;34m\u001b[0m\u001b[0;34m\u001b[0m\u001b[0m\n\u001b[0;32m---> 12\u001b[0;31m     \u001b[0;32mimport\u001b[0m \u001b[0mpandas\u001b[0m\u001b[0;34m\u001b[0m\u001b[0;34m\u001b[0m\u001b[0m\n\u001b[0m\u001b[1;32m     13\u001b[0m \u001b[0;32mexcept\u001b[0m \u001b[0mImportError\u001b[0m\u001b[0;34m:\u001b[0m\u001b[0;34m\u001b[0m\u001b[0;34m\u001b[0m\u001b[0m\n\u001b[1;32m     14\u001b[0m     \u001b[0mpandas\u001b[0m \u001b[0;34m=\u001b[0m \u001b[0;32mNone\u001b[0m\u001b[0;34m\u001b[0m\u001b[0;34m\u001b[0m\u001b[0m\n",
            "\u001b[0;32m/usr/local/lib/python3.11/dist-packages/pandas/__init__.py\u001b[0m in \u001b[0;36m<module>\u001b[0;34m\u001b[0m\n\u001b[1;32m    140\u001b[0m \u001b[0;32mfrom\u001b[0m \u001b[0mpandas\u001b[0m\u001b[0;34m.\u001b[0m\u001b[0mutil\u001b[0m\u001b[0;34m.\u001b[0m\u001b[0m_print_versions\u001b[0m \u001b[0;32mimport\u001b[0m \u001b[0mshow_versions\u001b[0m\u001b[0;34m\u001b[0m\u001b[0;34m\u001b[0m\u001b[0m\n\u001b[1;32m    141\u001b[0m \u001b[0;34m\u001b[0m\u001b[0m\n\u001b[0;32m--> 142\u001b[0;31m from pandas.io.api import (\n\u001b[0m\u001b[1;32m    143\u001b[0m     \u001b[0;31m# excel\u001b[0m\u001b[0;34m\u001b[0m\u001b[0;34m\u001b[0m\u001b[0m\n\u001b[1;32m    144\u001b[0m     \u001b[0mExcelFile\u001b[0m\u001b[0;34m,\u001b[0m\u001b[0;34m\u001b[0m\u001b[0;34m\u001b[0m\u001b[0m\n",
            "\u001b[0;32m/usr/local/lib/python3.11/dist-packages/pandas/io/api.py\u001b[0m in \u001b[0;36m<module>\u001b[0;34m\u001b[0m\n\u001b[1;32m     24\u001b[0m     \u001b[0mto_pickle\u001b[0m\u001b[0;34m,\u001b[0m\u001b[0;34m\u001b[0m\u001b[0;34m\u001b[0m\u001b[0m\n\u001b[1;32m     25\u001b[0m )\n\u001b[0;32m---> 26\u001b[0;31m from pandas.io.pytables import (\n\u001b[0m\u001b[1;32m     27\u001b[0m     \u001b[0mHDFStore\u001b[0m\u001b[0;34m,\u001b[0m\u001b[0;34m\u001b[0m\u001b[0;34m\u001b[0m\u001b[0m\n\u001b[1;32m     28\u001b[0m     \u001b[0mread_hdf\u001b[0m\u001b[0;34m,\u001b[0m\u001b[0;34m\u001b[0m\u001b[0;34m\u001b[0m\u001b[0m\n",
            "\u001b[0;32m/usr/local/lib/python3.11/dist-packages/pandas/io/pytables.py\u001b[0m in \u001b[0;36m<module>\u001b[0;34m\u001b[0m\n\u001b[1;32m   2641\u001b[0m \u001b[0;34m\u001b[0m\u001b[0m\n\u001b[1;32m   2642\u001b[0m \u001b[0;34m\u001b[0m\u001b[0m\n\u001b[0;32m-> 2643\u001b[0;31m \u001b[0;32mclass\u001b[0m \u001b[0mDataIndexableCol\u001b[0m\u001b[0;34m(\u001b[0m\u001b[0mDataCol\u001b[0m\u001b[0;34m)\u001b[0m\u001b[0;34m:\u001b[0m\u001b[0;34m\u001b[0m\u001b[0;34m\u001b[0m\u001b[0m\n\u001b[0m\u001b[1;32m   2644\u001b[0m     \u001b[0;34m\"\"\"represent a data column that can be indexed\"\"\"\u001b[0m\u001b[0;34m\u001b[0m\u001b[0;34m\u001b[0m\u001b[0m\n\u001b[1;32m   2645\u001b[0m \u001b[0;34m\u001b[0m\u001b[0m\n",
            "\u001b[0;31mKeyboardInterrupt\u001b[0m: "
          ]
        }
      ]
    },
    {
      "cell_type": "code",
      "source": [
        "model.summary()#這個是讓小P幫我做確認的東西，我想留著"
      ],
      "metadata": {
        "colab": {
          "base_uri": "https://localhost:8080/",
          "height": 567
        },
        "id": "6m6R4U5i3ucd",
        "outputId": "f10cb3cd-22e9-4255-f5fb-ee0ca08fc950"
      },
      "execution_count": null,
      "outputs": [
        {
          "output_type": "display_data",
          "data": {
            "text/plain": [
              "\u001b[1mModel: \"sequential_1\"\u001b[0m\n"
            ],
            "text/html": [
              "<pre style=\"white-space:pre;overflow-x:auto;line-height:normal;font-family:Menlo,'DejaVu Sans Mono',consolas,'Courier New',monospace\"><span style=\"font-weight: bold\">Model: \"sequential_1\"</span>\n",
              "</pre>\n"
            ]
          },
          "metadata": {}
        },
        {
          "output_type": "display_data",
          "data": {
            "text/plain": [
              "┏━━━━━━━━━━━━━━━━━━━━━━━━━━━━━━━━━━━━━━┳━━━━━━━━━━━━━━━━━━━━━━━━━━━━━┳━━━━━━━━━━━━━━━━━┓\n",
              "┃\u001b[1m \u001b[0m\u001b[1mLayer (type)                        \u001b[0m\u001b[1m \u001b[0m┃\u001b[1m \u001b[0m\u001b[1mOutput Shape               \u001b[0m\u001b[1m \u001b[0m┃\u001b[1m \u001b[0m\u001b[1m        Param #\u001b[0m\u001b[1m \u001b[0m┃\n",
              "┡━━━━━━━━━━━━━━━━━━━━━━━━━━━━━━━━━━━━━━╇━━━━━━━━━━━━━━━━━━━━━━━━━━━━━╇━━━━━━━━━━━━━━━━━┩\n",
              "│ dense_5 (\u001b[38;5;33mDense\u001b[0m)                      │ (\u001b[38;5;45mNone\u001b[0m, \u001b[38;5;34m512\u001b[0m)                 │         \u001b[38;5;34m401,920\u001b[0m │\n",
              "├──────────────────────────────────────┼─────────────────────────────┼─────────────────┤\n",
              "│ batch_normalization_1                │ (\u001b[38;5;45mNone\u001b[0m, \u001b[38;5;34m512\u001b[0m)                 │           \u001b[38;5;34m2,048\u001b[0m │\n",
              "│ (\u001b[38;5;33mBatchNormalization\u001b[0m)                 │                             │                 │\n",
              "├──────────────────────────────────────┼─────────────────────────────┼─────────────────┤\n",
              "│ dropout_3 (\u001b[38;5;33mDropout\u001b[0m)                  │ (\u001b[38;5;45mNone\u001b[0m, \u001b[38;5;34m512\u001b[0m)                 │               \u001b[38;5;34m0\u001b[0m │\n",
              "├──────────────────────────────────────┼─────────────────────────────┼─────────────────┤\n",
              "│ dense_6 (\u001b[38;5;33mDense\u001b[0m)                      │ (\u001b[38;5;45mNone\u001b[0m, \u001b[38;5;34m256\u001b[0m)                 │         \u001b[38;5;34m131,328\u001b[0m │\n",
              "├──────────────────────────────────────┼─────────────────────────────┼─────────────────┤\n",
              "│ batch_normalization_2                │ (\u001b[38;5;45mNone\u001b[0m, \u001b[38;5;34m256\u001b[0m)                 │           \u001b[38;5;34m1,024\u001b[0m │\n",
              "│ (\u001b[38;5;33mBatchNormalization\u001b[0m)                 │                             │                 │\n",
              "├──────────────────────────────────────┼─────────────────────────────┼─────────────────┤\n",
              "│ dropout_4 (\u001b[38;5;33mDropout\u001b[0m)                  │ (\u001b[38;5;45mNone\u001b[0m, \u001b[38;5;34m256\u001b[0m)                 │               \u001b[38;5;34m0\u001b[0m │\n",
              "├──────────────────────────────────────┼─────────────────────────────┼─────────────────┤\n",
              "│ dense_7 (\u001b[38;5;33mDense\u001b[0m)                      │ (\u001b[38;5;45mNone\u001b[0m, \u001b[38;5;34m128\u001b[0m)                 │          \u001b[38;5;34m32,896\u001b[0m │\n",
              "├──────────────────────────────────────┼─────────────────────────────┼─────────────────┤\n",
              "│ dropout_5 (\u001b[38;5;33mDropout\u001b[0m)                  │ (\u001b[38;5;45mNone\u001b[0m, \u001b[38;5;34m128\u001b[0m)                 │               \u001b[38;5;34m0\u001b[0m │\n",
              "├──────────────────────────────────────┼─────────────────────────────┼─────────────────┤\n",
              "│ dense_8 (\u001b[38;5;33mDense\u001b[0m)                      │ (\u001b[38;5;45mNone\u001b[0m, \u001b[38;5;34m64\u001b[0m)                  │           \u001b[38;5;34m8,256\u001b[0m │\n",
              "├──────────────────────────────────────┼─────────────────────────────┼─────────────────┤\n",
              "│ dropout_6 (\u001b[38;5;33mDropout\u001b[0m)                  │ (\u001b[38;5;45mNone\u001b[0m, \u001b[38;5;34m64\u001b[0m)                  │               \u001b[38;5;34m0\u001b[0m │\n",
              "├──────────────────────────────────────┼─────────────────────────────┼─────────────────┤\n",
              "│ dense_9 (\u001b[38;5;33mDense\u001b[0m)                      │ (\u001b[38;5;45mNone\u001b[0m, \u001b[38;5;34m32\u001b[0m)                  │           \u001b[38;5;34m2,080\u001b[0m │\n",
              "├──────────────────────────────────────┼─────────────────────────────┼─────────────────┤\n",
              "│ dense_10 (\u001b[38;5;33mDense\u001b[0m)                     │ (\u001b[38;5;45mNone\u001b[0m, \u001b[38;5;34m10\u001b[0m)                  │             \u001b[38;5;34m330\u001b[0m │\n",
              "└──────────────────────────────────────┴─────────────────────────────┴─────────────────┘\n"
            ],
            "text/html": [
              "<pre style=\"white-space:pre;overflow-x:auto;line-height:normal;font-family:Menlo,'DejaVu Sans Mono',consolas,'Courier New',monospace\">┏━━━━━━━━━━━━━━━━━━━━━━━━━━━━━━━━━━━━━━┳━━━━━━━━━━━━━━━━━━━━━━━━━━━━━┳━━━━━━━━━━━━━━━━━┓\n",
              "┃<span style=\"font-weight: bold\"> Layer (type)                         </span>┃<span style=\"font-weight: bold\"> Output Shape                </span>┃<span style=\"font-weight: bold\">         Param # </span>┃\n",
              "┡━━━━━━━━━━━━━━━━━━━━━━━━━━━━━━━━━━━━━━╇━━━━━━━━━━━━━━━━━━━━━━━━━━━━━╇━━━━━━━━━━━━━━━━━┩\n",
              "│ dense_5 (<span style=\"color: #0087ff; text-decoration-color: #0087ff\">Dense</span>)                      │ (<span style=\"color: #00d7ff; text-decoration-color: #00d7ff\">None</span>, <span style=\"color: #00af00; text-decoration-color: #00af00\">512</span>)                 │         <span style=\"color: #00af00; text-decoration-color: #00af00\">401,920</span> │\n",
              "├──────────────────────────────────────┼─────────────────────────────┼─────────────────┤\n",
              "│ batch_normalization_1                │ (<span style=\"color: #00d7ff; text-decoration-color: #00d7ff\">None</span>, <span style=\"color: #00af00; text-decoration-color: #00af00\">512</span>)                 │           <span style=\"color: #00af00; text-decoration-color: #00af00\">2,048</span> │\n",
              "│ (<span style=\"color: #0087ff; text-decoration-color: #0087ff\">BatchNormalization</span>)                 │                             │                 │\n",
              "├──────────────────────────────────────┼─────────────────────────────┼─────────────────┤\n",
              "│ dropout_3 (<span style=\"color: #0087ff; text-decoration-color: #0087ff\">Dropout</span>)                  │ (<span style=\"color: #00d7ff; text-decoration-color: #00d7ff\">None</span>, <span style=\"color: #00af00; text-decoration-color: #00af00\">512</span>)                 │               <span style=\"color: #00af00; text-decoration-color: #00af00\">0</span> │\n",
              "├──────────────────────────────────────┼─────────────────────────────┼─────────────────┤\n",
              "│ dense_6 (<span style=\"color: #0087ff; text-decoration-color: #0087ff\">Dense</span>)                      │ (<span style=\"color: #00d7ff; text-decoration-color: #00d7ff\">None</span>, <span style=\"color: #00af00; text-decoration-color: #00af00\">256</span>)                 │         <span style=\"color: #00af00; text-decoration-color: #00af00\">131,328</span> │\n",
              "├──────────────────────────────────────┼─────────────────────────────┼─────────────────┤\n",
              "│ batch_normalization_2                │ (<span style=\"color: #00d7ff; text-decoration-color: #00d7ff\">None</span>, <span style=\"color: #00af00; text-decoration-color: #00af00\">256</span>)                 │           <span style=\"color: #00af00; text-decoration-color: #00af00\">1,024</span> │\n",
              "│ (<span style=\"color: #0087ff; text-decoration-color: #0087ff\">BatchNormalization</span>)                 │                             │                 │\n",
              "├──────────────────────────────────────┼─────────────────────────────┼─────────────────┤\n",
              "│ dropout_4 (<span style=\"color: #0087ff; text-decoration-color: #0087ff\">Dropout</span>)                  │ (<span style=\"color: #00d7ff; text-decoration-color: #00d7ff\">None</span>, <span style=\"color: #00af00; text-decoration-color: #00af00\">256</span>)                 │               <span style=\"color: #00af00; text-decoration-color: #00af00\">0</span> │\n",
              "├──────────────────────────────────────┼─────────────────────────────┼─────────────────┤\n",
              "│ dense_7 (<span style=\"color: #0087ff; text-decoration-color: #0087ff\">Dense</span>)                      │ (<span style=\"color: #00d7ff; text-decoration-color: #00d7ff\">None</span>, <span style=\"color: #00af00; text-decoration-color: #00af00\">128</span>)                 │          <span style=\"color: #00af00; text-decoration-color: #00af00\">32,896</span> │\n",
              "├──────────────────────────────────────┼─────────────────────────────┼─────────────────┤\n",
              "│ dropout_5 (<span style=\"color: #0087ff; text-decoration-color: #0087ff\">Dropout</span>)                  │ (<span style=\"color: #00d7ff; text-decoration-color: #00d7ff\">None</span>, <span style=\"color: #00af00; text-decoration-color: #00af00\">128</span>)                 │               <span style=\"color: #00af00; text-decoration-color: #00af00\">0</span> │\n",
              "├──────────────────────────────────────┼─────────────────────────────┼─────────────────┤\n",
              "│ dense_8 (<span style=\"color: #0087ff; text-decoration-color: #0087ff\">Dense</span>)                      │ (<span style=\"color: #00d7ff; text-decoration-color: #00d7ff\">None</span>, <span style=\"color: #00af00; text-decoration-color: #00af00\">64</span>)                  │           <span style=\"color: #00af00; text-decoration-color: #00af00\">8,256</span> │\n",
              "├──────────────────────────────────────┼─────────────────────────────┼─────────────────┤\n",
              "│ dropout_6 (<span style=\"color: #0087ff; text-decoration-color: #0087ff\">Dropout</span>)                  │ (<span style=\"color: #00d7ff; text-decoration-color: #00d7ff\">None</span>, <span style=\"color: #00af00; text-decoration-color: #00af00\">64</span>)                  │               <span style=\"color: #00af00; text-decoration-color: #00af00\">0</span> │\n",
              "├──────────────────────────────────────┼─────────────────────────────┼─────────────────┤\n",
              "│ dense_9 (<span style=\"color: #0087ff; text-decoration-color: #0087ff\">Dense</span>)                      │ (<span style=\"color: #00d7ff; text-decoration-color: #00d7ff\">None</span>, <span style=\"color: #00af00; text-decoration-color: #00af00\">32</span>)                  │           <span style=\"color: #00af00; text-decoration-color: #00af00\">2,080</span> │\n",
              "├──────────────────────────────────────┼─────────────────────────────┼─────────────────┤\n",
              "│ dense_10 (<span style=\"color: #0087ff; text-decoration-color: #0087ff\">Dense</span>)                     │ (<span style=\"color: #00d7ff; text-decoration-color: #00d7ff\">None</span>, <span style=\"color: #00af00; text-decoration-color: #00af00\">10</span>)                  │             <span style=\"color: #00af00; text-decoration-color: #00af00\">330</span> │\n",
              "└──────────────────────────────────────┴─────────────────────────────┴─────────────────┘\n",
              "</pre>\n"
            ]
          },
          "metadata": {}
        },
        {
          "output_type": "display_data",
          "data": {
            "text/plain": [
              "\u001b[1m Total params: \u001b[0m\u001b[38;5;34m579,882\u001b[0m (2.21 MB)\n"
            ],
            "text/html": [
              "<pre style=\"white-space:pre;overflow-x:auto;line-height:normal;font-family:Menlo,'DejaVu Sans Mono',consolas,'Courier New',monospace\"><span style=\"font-weight: bold\"> Total params: </span><span style=\"color: #00af00; text-decoration-color: #00af00\">579,882</span> (2.21 MB)\n",
              "</pre>\n"
            ]
          },
          "metadata": {}
        },
        {
          "output_type": "display_data",
          "data": {
            "text/plain": [
              "\u001b[1m Trainable params: \u001b[0m\u001b[38;5;34m578,346\u001b[0m (2.21 MB)\n"
            ],
            "text/html": [
              "<pre style=\"white-space:pre;overflow-x:auto;line-height:normal;font-family:Menlo,'DejaVu Sans Mono',consolas,'Courier New',monospace\"><span style=\"font-weight: bold\"> Trainable params: </span><span style=\"color: #00af00; text-decoration-color: #00af00\">578,346</span> (2.21 MB)\n",
              "</pre>\n"
            ]
          },
          "metadata": {}
        },
        {
          "output_type": "display_data",
          "data": {
            "text/plain": [
              "\u001b[1m Non-trainable params: \u001b[0m\u001b[38;5;34m1,536\u001b[0m (6.00 KB)\n"
            ],
            "text/html": [
              "<pre style=\"white-space:pre;overflow-x:auto;line-height:normal;font-family:Menlo,'DejaVu Sans Mono',consolas,'Courier New',monospace\"><span style=\"font-weight: bold\"> Non-trainable params: </span><span style=\"color: #00af00; text-decoration-color: #00af00\">1,536</span> (6.00 KB)\n",
              "</pre>\n"
            ]
          },
          "metadata": {}
        }
      ]
    },
    {
      "cell_type": "code",
      "source": [
        "model.fit(x_train, y_train, batch_size=128, epochs=20, validation_data=(x_test, y_test))"
      ],
      "metadata": {
        "colab": {
          "base_uri": "https://localhost:8080/"
        },
        "id": "7RbicduI5UWz",
        "outputId": "2259fb38-a766-483d-8634-e65ee9494ecc"
      },
      "execution_count": null,
      "outputs": [
        {
          "output_type": "stream",
          "name": "stdout",
          "text": [
            "Epoch 1/20\n",
            "\u001b[1m469/469\u001b[0m \u001b[32m━━━━━━━━━━━━━━━━━━━━\u001b[0m\u001b[37m\u001b[0m \u001b[1m12s\u001b[0m 14ms/step - accuracy: 0.7589 - loss: 0.7460 - val_accuracy: 0.9599 - val_loss: 0.1309\n",
            "Epoch 2/20\n",
            "\u001b[1m469/469\u001b[0m \u001b[32m━━━━━━━━━━━━━━━━━━━━\u001b[0m\u001b[37m\u001b[0m \u001b[1m2s\u001b[0m 3ms/step - accuracy: 0.9468 - loss: 0.1859 - val_accuracy: 0.9682 - val_loss: 0.1107\n",
            "Epoch 3/20\n",
            "\u001b[1m469/469\u001b[0m \u001b[32m━━━━━━━━━━━━━━━━━━━━\u001b[0m\u001b[37m\u001b[0m \u001b[1m2s\u001b[0m 4ms/step - accuracy: 0.9595 - loss: 0.1409 - val_accuracy: 0.9704 - val_loss: 0.0991\n",
            "Epoch 4/20\n",
            "\u001b[1m469/469\u001b[0m \u001b[32m━━━━━━━━━━━━━━━━━━━━\u001b[0m\u001b[37m\u001b[0m \u001b[1m2s\u001b[0m 4ms/step - accuracy: 0.9667 - loss: 0.1174 - val_accuracy: 0.9772 - val_loss: 0.0792\n",
            "Epoch 5/20\n",
            "\u001b[1m469/469\u001b[0m \u001b[32m━━━━━━━━━━━━━━━━━━━━\u001b[0m\u001b[37m\u001b[0m \u001b[1m2s\u001b[0m 4ms/step - accuracy: 0.9718 - loss: 0.0997 - val_accuracy: 0.9791 - val_loss: 0.0752\n",
            "Epoch 6/20\n",
            "\u001b[1m469/469\u001b[0m \u001b[32m━━━━━━━━━━━━━━━━━━━━\u001b[0m\u001b[37m\u001b[0m \u001b[1m2s\u001b[0m 5ms/step - accuracy: 0.9743 - loss: 0.0879 - val_accuracy: 0.9765 - val_loss: 0.0839\n",
            "Epoch 7/20\n",
            "\u001b[1m469/469\u001b[0m \u001b[32m━━━━━━━━━━━━━━━━━━━━\u001b[0m\u001b[37m\u001b[0m \u001b[1m2s\u001b[0m 4ms/step - accuracy: 0.9759 - loss: 0.0839 - val_accuracy: 0.9783 - val_loss: 0.0807\n",
            "Epoch 8/20\n",
            "\u001b[1m469/469\u001b[0m \u001b[32m━━━━━━━━━━━━━━━━━━━━\u001b[0m\u001b[37m\u001b[0m \u001b[1m2s\u001b[0m 4ms/step - accuracy: 0.9778 - loss: 0.0788 - val_accuracy: 0.9794 - val_loss: 0.0708\n",
            "Epoch 9/20\n",
            "\u001b[1m469/469\u001b[0m \u001b[32m━━━━━━━━━━━━━━━━━━━━\u001b[0m\u001b[37m\u001b[0m \u001b[1m2s\u001b[0m 4ms/step - accuracy: 0.9794 - loss: 0.0669 - val_accuracy: 0.9797 - val_loss: 0.0758\n",
            "Epoch 10/20\n",
            "\u001b[1m469/469\u001b[0m \u001b[32m━━━━━━━━━━━━━━━━━━━━\u001b[0m\u001b[37m\u001b[0m \u001b[1m2s\u001b[0m 3ms/step - accuracy: 0.9799 - loss: 0.0673 - val_accuracy: 0.9810 - val_loss: 0.0779\n",
            "Epoch 11/20\n",
            "\u001b[1m469/469\u001b[0m \u001b[32m━━━━━━━━━━━━━━━━━━━━\u001b[0m\u001b[37m\u001b[0m \u001b[1m2s\u001b[0m 3ms/step - accuracy: 0.9811 - loss: 0.0623 - val_accuracy: 0.9800 - val_loss: 0.0741\n",
            "Epoch 12/20\n",
            "\u001b[1m469/469\u001b[0m \u001b[32m━━━━━━━━━━━━━━━━━━━━\u001b[0m\u001b[37m\u001b[0m \u001b[1m3s\u001b[0m 4ms/step - accuracy: 0.9833 - loss: 0.0575 - val_accuracy: 0.9790 - val_loss: 0.0789\n",
            "Epoch 13/20\n",
            "\u001b[1m469/469\u001b[0m \u001b[32m━━━━━━━━━━━━━━━━━━━━\u001b[0m\u001b[37m\u001b[0m \u001b[1m2s\u001b[0m 4ms/step - accuracy: 0.9845 - loss: 0.0522 - val_accuracy: 0.9800 - val_loss: 0.0746\n",
            "Epoch 14/20\n",
            "\u001b[1m469/469\u001b[0m \u001b[32m━━━━━━━━━━━━━━━━━━━━\u001b[0m\u001b[37m\u001b[0m \u001b[1m2s\u001b[0m 4ms/step - accuracy: 0.9834 - loss: 0.0536 - val_accuracy: 0.9811 - val_loss: 0.0703\n",
            "Epoch 15/20\n",
            "\u001b[1m469/469\u001b[0m \u001b[32m━━━━━━━━━━━━━━━━━━━━\u001b[0m\u001b[37m\u001b[0m \u001b[1m2s\u001b[0m 4ms/step - accuracy: 0.9835 - loss: 0.0572 - val_accuracy: 0.9820 - val_loss: 0.0630\n",
            "Epoch 16/20\n",
            "\u001b[1m469/469\u001b[0m \u001b[32m━━━━━━━━━━━━━━━━━━━━\u001b[0m\u001b[37m\u001b[0m \u001b[1m2s\u001b[0m 4ms/step - accuracy: 0.9860 - loss: 0.0470 - val_accuracy: 0.9833 - val_loss: 0.0642\n",
            "Epoch 17/20\n",
            "\u001b[1m469/469\u001b[0m \u001b[32m━━━━━━━━━━━━━━━━━━━━\u001b[0m\u001b[37m\u001b[0m \u001b[1m2s\u001b[0m 4ms/step - accuracy: 0.9858 - loss: 0.0466 - val_accuracy: 0.9837 - val_loss: 0.0733\n",
            "Epoch 18/20\n",
            "\u001b[1m469/469\u001b[0m \u001b[32m━━━━━━━━━━━━━━━━━━━━\u001b[0m\u001b[37m\u001b[0m \u001b[1m2s\u001b[0m 5ms/step - accuracy: 0.9875 - loss: 0.0430 - val_accuracy: 0.9825 - val_loss: 0.0660\n",
            "Epoch 19/20\n",
            "\u001b[1m469/469\u001b[0m \u001b[32m━━━━━━━━━━━━━━━━━━━━\u001b[0m\u001b[37m\u001b[0m \u001b[1m2s\u001b[0m 4ms/step - accuracy: 0.9876 - loss: 0.0406 - val_accuracy: 0.9816 - val_loss: 0.0701\n",
            "Epoch 20/20\n",
            "\u001b[1m469/469\u001b[0m \u001b[32m━━━━━━━━━━━━━━━━━━━━\u001b[0m\u001b[37m\u001b[0m \u001b[1m2s\u001b[0m 4ms/step - accuracy: 0.9877 - loss: 0.0404 - val_accuracy: 0.9855 - val_loss: 0.0559\n"
          ]
        },
        {
          "output_type": "execute_result",
          "data": {
            "text/plain": [
              "<keras.src.callbacks.history.History at 0x7b8fd65c6cd0>"
            ]
          },
          "metadata": {},
          "execution_count": 20
        }
      ]
    },
    {
      "cell_type": "markdown",
      "source": [
        "\n",
        "\n",
        "---\n",
        "\n"
      ],
      "metadata": {
        "id": "Shh4FRzh5pDs"
      }
    },
    {
      "cell_type": "code",
      "source": [
        "loss, acc = model.evaluate(x_test, y_test)"
      ],
      "metadata": {
        "colab": {
          "base_uri": "https://localhost:8080/"
        },
        "id": "ORTst8py5fZL",
        "outputId": "ba9f998b-e05d-4dc8-e37e-973a2140c1ce"
      },
      "execution_count": null,
      "outputs": [
        {
          "output_type": "stream",
          "name": "stdout",
          "text": [
            "\u001b[1m313/313\u001b[0m \u001b[32m━━━━━━━━━━━━━━━━━━━━\u001b[0m\u001b[37m\u001b[0m \u001b[1m1s\u001b[0m 2ms/step - accuracy: 0.9821 - loss: 0.0702\n"
          ]
        }
      ]
    },
    {
      "cell_type": "code",
      "source": [
        "print(f\"測試資料正確率 {acc*100:.2f}%\")"
      ],
      "metadata": {
        "colab": {
          "base_uri": "https://localhost:8080/"
        },
        "id": "NQqYDLLx5yd-",
        "outputId": "4fa80c7b-ab87-4c34-b7dc-784d9ef397b8"
      },
      "execution_count": null,
      "outputs": [
        {
          "output_type": "stream",
          "name": "stdout",
          "text": [
            "測試資料正確率 98.55%\n"
          ]
        }
      ]
    },
    {
      "cell_type": "code",
      "source": [],
      "metadata": {
        "id": "QTB2VGYV54S7"
      },
      "execution_count": null,
      "outputs": []
    }
  ]
}